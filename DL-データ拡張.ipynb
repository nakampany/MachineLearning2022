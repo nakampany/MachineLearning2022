{
  "nbformat": 4,
  "nbformat_minor": 0,
  "metadata": {
    "colab": {
      "provenance": [],
      "authorship_tag": "ABX9TyMFOxwKmkHxxw+lOJDPXJHQ",
      "include_colab_link": true
    },
    "kernelspec": {
      "name": "python3",
      "display_name": "Python 3"
    },
    "language_info": {
      "name": "python"
    },
    "widgets": {
      "application/vnd.jupyter.widget-state+json": {
        "7bee3e920a6f4e918790b5685e7eea96": {
          "model_module": "@jupyter-widgets/controls",
          "model_name": "HBoxModel",
          "model_module_version": "1.5.0",
          "state": {
            "_dom_classes": [],
            "_model_module": "@jupyter-widgets/controls",
            "_model_module_version": "1.5.0",
            "_model_name": "HBoxModel",
            "_view_count": null,
            "_view_module": "@jupyter-widgets/controls",
            "_view_module_version": "1.5.0",
            "_view_name": "HBoxView",
            "box_style": "",
            "children": [
              "IPY_MODEL_77e24d8787aa4893abf0a50eea47bae0",
              "IPY_MODEL_23d3446cecba41e2b0f4121c34f6e96a",
              "IPY_MODEL_de6ecb114ad74548a52482fd5fe1b717"
            ],
            "layout": "IPY_MODEL_01033752038b4c13bfb8198bd922dc03"
          }
        },
        "77e24d8787aa4893abf0a50eea47bae0": {
          "model_module": "@jupyter-widgets/controls",
          "model_name": "HTMLModel",
          "model_module_version": "1.5.0",
          "state": {
            "_dom_classes": [],
            "_model_module": "@jupyter-widgets/controls",
            "_model_module_version": "1.5.0",
            "_model_name": "HTMLModel",
            "_view_count": null,
            "_view_module": "@jupyter-widgets/controls",
            "_view_module_version": "1.5.0",
            "_view_name": "HTMLView",
            "description": "",
            "description_tooltip": null,
            "layout": "IPY_MODEL_63674572d0444ecab15da9445d205fa8",
            "placeholder": "​",
            "style": "IPY_MODEL_55cf86972c77433eb0afd45a8c230ab3",
            "value": "Dl Completed...: 100%"
          }
        },
        "23d3446cecba41e2b0f4121c34f6e96a": {
          "model_module": "@jupyter-widgets/controls",
          "model_name": "FloatProgressModel",
          "model_module_version": "1.5.0",
          "state": {
            "_dom_classes": [],
            "_model_module": "@jupyter-widgets/controls",
            "_model_module_version": "1.5.0",
            "_model_name": "FloatProgressModel",
            "_view_count": null,
            "_view_module": "@jupyter-widgets/controls",
            "_view_module_version": "1.5.0",
            "_view_name": "ProgressView",
            "bar_style": "success",
            "description": "",
            "description_tooltip": null,
            "layout": "IPY_MODEL_ae827f32a54349f0871d2ad9d5331b97",
            "max": 4,
            "min": 0,
            "orientation": "horizontal",
            "style": "IPY_MODEL_3476e8512aa148848551ba79530046c5",
            "value": 4
          }
        },
        "de6ecb114ad74548a52482fd5fe1b717": {
          "model_module": "@jupyter-widgets/controls",
          "model_name": "HTMLModel",
          "model_module_version": "1.5.0",
          "state": {
            "_dom_classes": [],
            "_model_module": "@jupyter-widgets/controls",
            "_model_module_version": "1.5.0",
            "_model_name": "HTMLModel",
            "_view_count": null,
            "_view_module": "@jupyter-widgets/controls",
            "_view_module_version": "1.5.0",
            "_view_name": "HTMLView",
            "description": "",
            "description_tooltip": null,
            "layout": "IPY_MODEL_948fc3d536534683a4f63e49cf9f4be0",
            "placeholder": "​",
            "style": "IPY_MODEL_79845f9748344db49a19af5d205e4d4a",
            "value": " 4/4 [00:00&lt;00:00,  3.62 file/s]"
          }
        },
        "01033752038b4c13bfb8198bd922dc03": {
          "model_module": "@jupyter-widgets/base",
          "model_name": "LayoutModel",
          "model_module_version": "1.2.0",
          "state": {
            "_model_module": "@jupyter-widgets/base",
            "_model_module_version": "1.2.0",
            "_model_name": "LayoutModel",
            "_view_count": null,
            "_view_module": "@jupyter-widgets/base",
            "_view_module_version": "1.2.0",
            "_view_name": "LayoutView",
            "align_content": null,
            "align_items": null,
            "align_self": null,
            "border": null,
            "bottom": null,
            "display": null,
            "flex": null,
            "flex_flow": null,
            "grid_area": null,
            "grid_auto_columns": null,
            "grid_auto_flow": null,
            "grid_auto_rows": null,
            "grid_column": null,
            "grid_gap": null,
            "grid_row": null,
            "grid_template_areas": null,
            "grid_template_columns": null,
            "grid_template_rows": null,
            "height": null,
            "justify_content": null,
            "justify_items": null,
            "left": null,
            "margin": null,
            "max_height": null,
            "max_width": null,
            "min_height": null,
            "min_width": null,
            "object_fit": null,
            "object_position": null,
            "order": null,
            "overflow": null,
            "overflow_x": null,
            "overflow_y": null,
            "padding": null,
            "right": null,
            "top": null,
            "visibility": null,
            "width": null
          }
        },
        "63674572d0444ecab15da9445d205fa8": {
          "model_module": "@jupyter-widgets/base",
          "model_name": "LayoutModel",
          "model_module_version": "1.2.0",
          "state": {
            "_model_module": "@jupyter-widgets/base",
            "_model_module_version": "1.2.0",
            "_model_name": "LayoutModel",
            "_view_count": null,
            "_view_module": "@jupyter-widgets/base",
            "_view_module_version": "1.2.0",
            "_view_name": "LayoutView",
            "align_content": null,
            "align_items": null,
            "align_self": null,
            "border": null,
            "bottom": null,
            "display": null,
            "flex": null,
            "flex_flow": null,
            "grid_area": null,
            "grid_auto_columns": null,
            "grid_auto_flow": null,
            "grid_auto_rows": null,
            "grid_column": null,
            "grid_gap": null,
            "grid_row": null,
            "grid_template_areas": null,
            "grid_template_columns": null,
            "grid_template_rows": null,
            "height": null,
            "justify_content": null,
            "justify_items": null,
            "left": null,
            "margin": null,
            "max_height": null,
            "max_width": null,
            "min_height": null,
            "min_width": null,
            "object_fit": null,
            "object_position": null,
            "order": null,
            "overflow": null,
            "overflow_x": null,
            "overflow_y": null,
            "padding": null,
            "right": null,
            "top": null,
            "visibility": null,
            "width": null
          }
        },
        "55cf86972c77433eb0afd45a8c230ab3": {
          "model_module": "@jupyter-widgets/controls",
          "model_name": "DescriptionStyleModel",
          "model_module_version": "1.5.0",
          "state": {
            "_model_module": "@jupyter-widgets/controls",
            "_model_module_version": "1.5.0",
            "_model_name": "DescriptionStyleModel",
            "_view_count": null,
            "_view_module": "@jupyter-widgets/base",
            "_view_module_version": "1.2.0",
            "_view_name": "StyleView",
            "description_width": ""
          }
        },
        "ae827f32a54349f0871d2ad9d5331b97": {
          "model_module": "@jupyter-widgets/base",
          "model_name": "LayoutModel",
          "model_module_version": "1.2.0",
          "state": {
            "_model_module": "@jupyter-widgets/base",
            "_model_module_version": "1.2.0",
            "_model_name": "LayoutModel",
            "_view_count": null,
            "_view_module": "@jupyter-widgets/base",
            "_view_module_version": "1.2.0",
            "_view_name": "LayoutView",
            "align_content": null,
            "align_items": null,
            "align_self": null,
            "border": null,
            "bottom": null,
            "display": null,
            "flex": null,
            "flex_flow": null,
            "grid_area": null,
            "grid_auto_columns": null,
            "grid_auto_flow": null,
            "grid_auto_rows": null,
            "grid_column": null,
            "grid_gap": null,
            "grid_row": null,
            "grid_template_areas": null,
            "grid_template_columns": null,
            "grid_template_rows": null,
            "height": null,
            "justify_content": null,
            "justify_items": null,
            "left": null,
            "margin": null,
            "max_height": null,
            "max_width": null,
            "min_height": null,
            "min_width": null,
            "object_fit": null,
            "object_position": null,
            "order": null,
            "overflow": null,
            "overflow_x": null,
            "overflow_y": null,
            "padding": null,
            "right": null,
            "top": null,
            "visibility": null,
            "width": null
          }
        },
        "3476e8512aa148848551ba79530046c5": {
          "model_module": "@jupyter-widgets/controls",
          "model_name": "ProgressStyleModel",
          "model_module_version": "1.5.0",
          "state": {
            "_model_module": "@jupyter-widgets/controls",
            "_model_module_version": "1.5.0",
            "_model_name": "ProgressStyleModel",
            "_view_count": null,
            "_view_module": "@jupyter-widgets/base",
            "_view_module_version": "1.2.0",
            "_view_name": "StyleView",
            "bar_color": null,
            "description_width": ""
          }
        },
        "948fc3d536534683a4f63e49cf9f4be0": {
          "model_module": "@jupyter-widgets/base",
          "model_name": "LayoutModel",
          "model_module_version": "1.2.0",
          "state": {
            "_model_module": "@jupyter-widgets/base",
            "_model_module_version": "1.2.0",
            "_model_name": "LayoutModel",
            "_view_count": null,
            "_view_module": "@jupyter-widgets/base",
            "_view_module_version": "1.2.0",
            "_view_name": "LayoutView",
            "align_content": null,
            "align_items": null,
            "align_self": null,
            "border": null,
            "bottom": null,
            "display": null,
            "flex": null,
            "flex_flow": null,
            "grid_area": null,
            "grid_auto_columns": null,
            "grid_auto_flow": null,
            "grid_auto_rows": null,
            "grid_column": null,
            "grid_gap": null,
            "grid_row": null,
            "grid_template_areas": null,
            "grid_template_columns": null,
            "grid_template_rows": null,
            "height": null,
            "justify_content": null,
            "justify_items": null,
            "left": null,
            "margin": null,
            "max_height": null,
            "max_width": null,
            "min_height": null,
            "min_width": null,
            "object_fit": null,
            "object_position": null,
            "order": null,
            "overflow": null,
            "overflow_x": null,
            "overflow_y": null,
            "padding": null,
            "right": null,
            "top": null,
            "visibility": null,
            "width": null
          }
        },
        "79845f9748344db49a19af5d205e4d4a": {
          "model_module": "@jupyter-widgets/controls",
          "model_name": "DescriptionStyleModel",
          "model_module_version": "1.5.0",
          "state": {
            "_model_module": "@jupyter-widgets/controls",
            "_model_module_version": "1.5.0",
            "_model_name": "DescriptionStyleModel",
            "_view_count": null,
            "_view_module": "@jupyter-widgets/base",
            "_view_module_version": "1.2.0",
            "_view_name": "StyleView",
            "description_width": ""
          }
        }
      }
    }
  },
  "cells": [
    {
      "cell_type": "markdown",
      "metadata": {
        "id": "view-in-github",
        "colab_type": "text"
      },
      "source": [
        "<a href=\"https://colab.research.google.com/github/nakampany/machine-learning-project/blob/master/DL-%E3%83%87%E3%83%BC%E3%82%BF%E6%8B%A1%E5%BC%B5.ipynb\" target=\"_parent\"><img src=\"https://colab.research.google.com/assets/colab-badge.svg\" alt=\"Open In Colab\"/></a>"
      ]
    },
    {
      "cell_type": "markdown",
      "source": [
        "# **2次元畳み込み**"
      ],
      "metadata": {
        "id": "NQF8e6Kcx_IH"
      }
    },
    {
      "cell_type": "code",
      "execution_count": null,
      "metadata": {
        "colab": {
          "base_uri": "https://localhost:8080/"
        },
        "id": "UxELeGmzxy5m",
        "outputId": "27e626e6-e467-4c99-e258-77b76d24bb73"
      },
      "outputs": [
        {
          "output_type": "stream",
          "name": "stdout",
          "text": [
            "TensorFlow version: 2.8.2\n",
            "NumPy version:  1.21.6\n"
          ]
        }
      ],
      "source": [
        "import tensorflow as tf\n",
        "import numpy as np\n",
        "\n",
        "print('TensorFlow version:', tf.__version__)\n",
        "print('NumPy version: ', np.__version__)"
      ]
    },
    {
      "cell_type": "code",
      "source": [
        "def conv1d(x, w, p=0, s=1):\n",
        "    w_rot = np.array(w[::-1])\n",
        "    x_padded = np.array(x)\n",
        "    if p > 0:\n",
        "        zero_pad = np.zeros(shape=p)\n",
        "        x_padded = np.concatenate(\n",
        "            [zero_pad, x_padded, zero_pad])\n",
        "    res = []\n",
        "    for i in range(0, int((len(x_padded) - len(w_rot)) / s) + 1, s):\n",
        "        res.append(np.sum(\n",
        "            x_padded[i:i+w_rot.shape[0]] * w_rot))\n",
        "    return np.array(res)"
      ],
      "metadata": {
        "id": "3olqR7UXx-EE"
      },
      "execution_count": null,
      "outputs": []
    },
    {
      "cell_type": "code",
      "source": [
        "## Testing:\n",
        "x = [1, 3, 2, 4, 5, 6, 1, 3]\n",
        "w = [1, 0, 3, 1, 2]"
      ],
      "metadata": {
        "id": "fkzvdFX-x-B2"
      },
      "execution_count": null,
      "outputs": []
    },
    {
      "cell_type": "code",
      "source": [
        "print('Conv1d Implementation:',\n",
        "      conv1d(x, w, p=2, s=1))"
      ],
      "metadata": {
        "colab": {
          "base_uri": "https://localhost:8080/"
        },
        "id": "BHOh73iYx9_5",
        "outputId": "50624215-7b6b-4619-e662-fdcce46bd58e"
      },
      "execution_count": null,
      "outputs": [
        {
          "output_type": "stream",
          "name": "stdout",
          "text": [
            "Conv1d Implementation: [ 5. 14. 16. 26. 24. 34. 19. 22.]\n"
          ]
        }
      ]
    },
    {
      "cell_type": "code",
      "source": [
        "print('Numpy Results:',\n",
        "      np.convolve(x, w, mode='same'))"
      ],
      "metadata": {
        "colab": {
          "base_uri": "https://localhost:8080/"
        },
        "id": "70gHLT_rx99k",
        "outputId": "298ef0c5-07b9-474b-c53e-00630d353403"
      },
      "execution_count": null,
      "outputs": [
        {
          "output_type": "stream",
          "name": "stdout",
          "text": [
            "Numpy Results: [ 5 14 16 26 24 34 19 22]\n"
          ]
        }
      ]
    },
    {
      "cell_type": "markdown",
      "source": [
        "# **SciPyでの畳み込み**"
      ],
      "metadata": {
        "id": "k-mHiiWOz_w6"
      }
    },
    {
      "cell_type": "code",
      "source": [
        "import scipy.signal\n",
        "\n",
        "\n",
        "def conv2d(X, W, p=(0, 0), s=(1, 1)):\n",
        "    W_rot = np.array(W)[::-1,::-1]\n",
        "    X_orig = np.array(X)\n",
        "    n1 = X_orig.shape[0] + 2*p[0]\n",
        "    n2 = X_orig.shape[1] + 2*p[1]\n",
        "    X_padded = np.zeros(shape=(n1, n2))\n",
        "    X_padded[p[0]:p[0]+X_orig.shape[0],\n",
        "    p[1]:p[1]+X_orig.shape[1]] = X_orig\n",
        "\n",
        "    res = []\n",
        "    for i in range(0, int((X_padded.shape[0] - \n",
        "                           W_rot.shape[0])/s[0])+1, s[0]):\n",
        "        res.append([])\n",
        "        for j in range(0, int((X_padded.shape[1] - \n",
        "                               W_rot.shape[1])/s[1])+1, s[1]):\n",
        "            X_sub = X_padded[i:i+W_rot.shape[0],\n",
        "                             j:j+W_rot.shape[1]]\n",
        "            res[-1].append(np.sum(X_sub * W_rot))\n",
        "    return(np.array(res))\n",
        "\n",
        "X = [[1, 3, 2, 4], [5, 6, 1, 3], [1, 2, 0, 2], [3, 4, 3, 2]]\n",
        "W = [[1, 0, 3], [1, 2, 1], [0, 1, 1]]\n",
        "\n",
        "print('Conv2d Implementation:\\n',\n",
        "    conv2d(X, W, p=(1, 1), s=(1, 1)))\n",
        "\n",
        "\n",
        "print('SciPy Results:\\n',\n",
        "    scipy.signal.convolve2d(X, W, mode='same'))"
      ],
      "metadata": {
        "colab": {
          "base_uri": "https://localhost:8080/"
        },
        "id": "xxr4sWm0z-a8",
        "outputId": "f3139a9b-2304-49d9-d0f8-dce8542ccb60"
      },
      "execution_count": null,
      "outputs": [
        {
          "output_type": "stream",
          "name": "stdout",
          "text": [
            "Conv2d Implementation:\n",
            " [[11. 25. 32. 13.]\n",
            " [19. 25. 24. 13.]\n",
            " [13. 28. 25. 17.]\n",
            " [11. 17. 14.  9.]]\n",
            "SciPy Results:\n",
            " [[11 25 32 13]\n",
            " [19 25 24 13]\n",
            " [13 28 25 17]\n",
            " [11 17 14  9]]\n"
          ]
        }
      ]
    },
    {
      "cell_type": "markdown",
      "source": [
        "# **TensorFlowでの画像ファイルの読み込み**"
      ],
      "metadata": {
        "id": "H-l7Dl1izutg"
      }
    },
    {
      "cell_type": "code",
      "source": [
        "import tensorflow as tf\n",
        "import matplotlib.pyplot as plt\n",
        "\n",
        "img_raw = tf.io.read_file('example-image.png')\n",
        "img = tf.image.decode_image(img_raw)\n",
        "print('Image shape:', img.shape)\n",
        "print('Number of channels:', img.shape[2])\n",
        "print('Image data type:', img.dtype)\n",
        "print(img[100:102, 100:102, :])\n",
        "\n",
        "plt.imshow(img)"
      ],
      "metadata": {
        "colab": {
          "base_uri": "https://localhost:8080/",
          "height": 415
        },
        "id": "VwGRw5T-x96g",
        "outputId": "502a9b82-c1de-4883-a5eb-e2ef102a7bd0"
      },
      "execution_count": null,
      "outputs": [
        {
          "output_type": "error",
          "ename": "NotFoundError",
          "evalue": "ignored",
          "traceback": [
            "\u001b[0;31m---------------------------------------------------------------------------\u001b[0m",
            "\u001b[0;31mNotFoundError\u001b[0m                             Traceback (most recent call last)",
            "\u001b[0;32m<ipython-input-10-476497eb01a3>\u001b[0m in \u001b[0;36m<module>\u001b[0;34m()\u001b[0m\n\u001b[1;32m      2\u001b[0m \u001b[0;32mimport\u001b[0m \u001b[0mmatplotlib\u001b[0m\u001b[0;34m.\u001b[0m\u001b[0mpyplot\u001b[0m \u001b[0;32mas\u001b[0m \u001b[0mplt\u001b[0m\u001b[0;34m\u001b[0m\u001b[0;34m\u001b[0m\u001b[0m\n\u001b[1;32m      3\u001b[0m \u001b[0;34m\u001b[0m\u001b[0m\n\u001b[0;32m----> 4\u001b[0;31m \u001b[0mimg_raw\u001b[0m \u001b[0;34m=\u001b[0m \u001b[0mtf\u001b[0m\u001b[0;34m.\u001b[0m\u001b[0mio\u001b[0m\u001b[0;34m.\u001b[0m\u001b[0mread_file\u001b[0m\u001b[0;34m(\u001b[0m\u001b[0;34m'example-image.png'\u001b[0m\u001b[0;34m)\u001b[0m\u001b[0;34m\u001b[0m\u001b[0;34m\u001b[0m\u001b[0m\n\u001b[0m\u001b[1;32m      5\u001b[0m \u001b[0mimg\u001b[0m \u001b[0;34m=\u001b[0m \u001b[0mtf\u001b[0m\u001b[0;34m.\u001b[0m\u001b[0mimage\u001b[0m\u001b[0;34m.\u001b[0m\u001b[0mdecode_image\u001b[0m\u001b[0;34m(\u001b[0m\u001b[0mimg_raw\u001b[0m\u001b[0;34m)\u001b[0m\u001b[0;34m\u001b[0m\u001b[0;34m\u001b[0m\u001b[0m\n\u001b[1;32m      6\u001b[0m \u001b[0mprint\u001b[0m\u001b[0;34m(\u001b[0m\u001b[0;34m'Image shape:'\u001b[0m\u001b[0;34m,\u001b[0m \u001b[0mimg\u001b[0m\u001b[0;34m.\u001b[0m\u001b[0mshape\u001b[0m\u001b[0;34m)\u001b[0m\u001b[0;34m\u001b[0m\u001b[0;34m\u001b[0m\u001b[0m\n",
            "\u001b[0;32m/usr/local/lib/python3.7/dist-packages/tensorflow/python/ops/io_ops.py\u001b[0m in \u001b[0;36mread_file\u001b[0;34m(filename, name)\u001b[0m\n\u001b[1;32m    131\u001b[0m     \u001b[0mA\u001b[0m \u001b[0mtensor\u001b[0m \u001b[0mof\u001b[0m \u001b[0mdtype\u001b[0m \u001b[0;34m\"string\"\u001b[0m\u001b[0;34m,\u001b[0m \u001b[0;32mwith\u001b[0m \u001b[0mthe\u001b[0m \u001b[0mfile\u001b[0m \u001b[0mcontents\u001b[0m\u001b[0;34m.\u001b[0m\u001b[0;34m\u001b[0m\u001b[0;34m\u001b[0m\u001b[0m\n\u001b[1;32m    132\u001b[0m   \"\"\"\n\u001b[0;32m--> 133\u001b[0;31m   \u001b[0;32mreturn\u001b[0m \u001b[0mgen_io_ops\u001b[0m\u001b[0;34m.\u001b[0m\u001b[0mread_file\u001b[0m\u001b[0;34m(\u001b[0m\u001b[0mfilename\u001b[0m\u001b[0;34m,\u001b[0m \u001b[0mname\u001b[0m\u001b[0;34m)\u001b[0m\u001b[0;34m\u001b[0m\u001b[0;34m\u001b[0m\u001b[0m\n\u001b[0m\u001b[1;32m    134\u001b[0m \u001b[0;34m\u001b[0m\u001b[0m\n\u001b[1;32m    135\u001b[0m \u001b[0;34m\u001b[0m\u001b[0m\n",
            "\u001b[0;32m/usr/local/lib/python3.7/dist-packages/tensorflow/python/ops/gen_io_ops.py\u001b[0m in \u001b[0;36mread_file\u001b[0;34m(filename, name)\u001b[0m\n\u001b[1;32m    565\u001b[0m     \u001b[0;32mtry\u001b[0m\u001b[0;34m:\u001b[0m\u001b[0;34m\u001b[0m\u001b[0;34m\u001b[0m\u001b[0m\n\u001b[1;32m    566\u001b[0m       return read_file_eager_fallback(\n\u001b[0;32m--> 567\u001b[0;31m           filename, name=name, ctx=_ctx)\n\u001b[0m\u001b[1;32m    568\u001b[0m     \u001b[0;32mexcept\u001b[0m \u001b[0m_core\u001b[0m\u001b[0;34m.\u001b[0m\u001b[0m_SymbolicException\u001b[0m\u001b[0;34m:\u001b[0m\u001b[0;34m\u001b[0m\u001b[0;34m\u001b[0m\u001b[0m\n\u001b[1;32m    569\u001b[0m       \u001b[0;32mpass\u001b[0m  \u001b[0;31m# Add nodes to the TensorFlow graph.\u001b[0m\u001b[0;34m\u001b[0m\u001b[0;34m\u001b[0m\u001b[0m\n",
            "\u001b[0;32m/usr/local/lib/python3.7/dist-packages/tensorflow/python/ops/gen_io_ops.py\u001b[0m in \u001b[0;36mread_file_eager_fallback\u001b[0;34m(filename, name, ctx)\u001b[0m\n\u001b[1;32m    588\u001b[0m   \u001b[0m_attrs\u001b[0m \u001b[0;34m=\u001b[0m \u001b[0;32mNone\u001b[0m\u001b[0;34m\u001b[0m\u001b[0;34m\u001b[0m\u001b[0m\n\u001b[1;32m    589\u001b[0m   _result = _execute.execute(b\"ReadFile\", 1, inputs=_inputs_flat,\n\u001b[0;32m--> 590\u001b[0;31m                              attrs=_attrs, ctx=ctx, name=name)\n\u001b[0m\u001b[1;32m    591\u001b[0m   \u001b[0;32mif\u001b[0m \u001b[0m_execute\u001b[0m\u001b[0;34m.\u001b[0m\u001b[0mmust_record_gradient\u001b[0m\u001b[0;34m(\u001b[0m\u001b[0;34m)\u001b[0m\u001b[0;34m:\u001b[0m\u001b[0;34m\u001b[0m\u001b[0;34m\u001b[0m\u001b[0m\n\u001b[1;32m    592\u001b[0m     _execute.record_gradient(\n",
            "\u001b[0;32m/usr/local/lib/python3.7/dist-packages/tensorflow/python/eager/execute.py\u001b[0m in \u001b[0;36mquick_execute\u001b[0;34m(op_name, num_outputs, inputs, attrs, ctx, name)\u001b[0m\n\u001b[1;32m     53\u001b[0m     \u001b[0mctx\u001b[0m\u001b[0;34m.\u001b[0m\u001b[0mensure_initialized\u001b[0m\u001b[0;34m(\u001b[0m\u001b[0;34m)\u001b[0m\u001b[0;34m\u001b[0m\u001b[0;34m\u001b[0m\u001b[0m\n\u001b[1;32m     54\u001b[0m     tensors = pywrap_tfe.TFE_Py_Execute(ctx._handle, device_name, op_name,\n\u001b[0;32m---> 55\u001b[0;31m                                         inputs, attrs, num_outputs)\n\u001b[0m\u001b[1;32m     56\u001b[0m   \u001b[0;32mexcept\u001b[0m \u001b[0mcore\u001b[0m\u001b[0;34m.\u001b[0m\u001b[0m_NotOkStatusException\u001b[0m \u001b[0;32mas\u001b[0m \u001b[0me\u001b[0m\u001b[0;34m:\u001b[0m\u001b[0;34m\u001b[0m\u001b[0;34m\u001b[0m\u001b[0m\n\u001b[1;32m     57\u001b[0m     \u001b[0;32mif\u001b[0m \u001b[0mname\u001b[0m \u001b[0;32mis\u001b[0m \u001b[0;32mnot\u001b[0m \u001b[0;32mNone\u001b[0m\u001b[0;34m:\u001b[0m\u001b[0;34m\u001b[0m\u001b[0;34m\u001b[0m\u001b[0m\n",
            "\u001b[0;31mNotFoundError\u001b[0m: example-image.png; No such file or directory [Op:ReadFile]"
          ]
        }
      ]
    },
    {
      "cell_type": "code",
      "source": [
        "img_raw = tf.io.read_file('example-image-gray.png')\n",
        "img = tf.image.decode_image(img_raw)\n",
        "\n",
        "print('Image shape:', img.shape)\n",
        "print('Number of channels:', img.shape[2])\n",
        "print('Image data type:', img.dtype)\n",
        "print(img[100:102, 100:102, :])\n",
        "\n",
        "plt.imshow(np.squeeze(img), cmap = \"gray\")\n",
        "tf.print('Rank:', tf.rank(img))\n",
        "tf.print('Shape:', img.shape)"
      ],
      "metadata": {
        "id": "-f0fDggp0lDt"
      },
      "execution_count": null,
      "outputs": []
    },
    {
      "cell_type": "code",
      "source": [
        "from tensorflow import keras\n",
        "\n",
        "\n",
        "conv_layer = keras.layers.Conv2D(\n",
        "    filters=16, kernel_size=(3, 3),\n",
        "    kernel_regularizer=keras.regularizers.l2(0.001))\n",
        "\n",
        "fc_layer = keras.layers.Dense(\n",
        "    units=16, kernel_regularizer=keras.regularizers.l2(0.001))\n",
        "\n",
        "from distutils.version import LooseVersion as Version"
      ],
      "metadata": {
        "id": "jVWlvjaZ0mGJ"
      },
      "execution_count": null,
      "outputs": []
    },
    {
      "cell_type": "code",
      "source": [
        "####### Binary Crossentropy\n",
        "bce_probas = tf.keras.losses.BinaryCrossentropy(from_logits=False)\n",
        "bce_logits = tf.keras.losses.BinaryCrossentropy(from_logits=True)\n",
        "\n",
        "logits = tf.constant([0.8])\n",
        "probas = tf.keras.activations.sigmoid(logits)\n",
        "\n",
        "tf.print('BCE (w Probas): {:.4f}'.format(bce_probas(y_true=[0], y_pred=probas)),\n",
        "        '(w Logits): {:.4f}'.format(bce_logits(y_true=[0], y_pred=logits)))\n",
        "tf.print('BCE (w Probas): {:.4f}'.format(bce_probas(y_true=[1], y_pred=probas)),\n",
        "        '(w Logits): {:.4f}'.format(bce_logits(y_true=[1], y_pred=logits)))"
      ],
      "metadata": {
        "colab": {
          "base_uri": "https://localhost:8080/"
        },
        "id": "KSD8SKl60mEQ",
        "outputId": "40361986-b3e9-4d6e-ce74-96cb6bf3442d"
      },
      "execution_count": null,
      "outputs": [
        {
          "output_type": "stream",
          "name": "stdout",
          "text": [
            "BCE (w Probas): 1.1711 (w Logits): 1.1711\n",
            "BCE (w Probas): 0.3711 (w Logits): 0.3711\n"
          ]
        }
      ]
    },
    {
      "cell_type": "code",
      "source": [
        "####### Binary Crossentropy\n",
        "bce_probas = tf.keras.losses.BinaryCrossentropy(from_logits=False)\n",
        "bce_logits = tf.keras.losses.BinaryCrossentropy(from_logits=True)\n",
        "\n",
        "logits = tf.constant([0.8])\n",
        "probas = tf.keras.activations.sigmoid(logits)\n",
        "\n",
        "tf.print('BCE (w Probas): {:.4f}'.format(bce_probas(y_true=[0], y_pred=probas)),\n",
        "        '(w Logits): {:.4f}'.format(bce_logits(y_true=[0], y_pred=logits)))\n",
        "tf.print('BCE (w Probas): {:.4f}'.format(bce_probas(y_true=[1], y_pred=probas)),\n",
        "        '(w Logits): {:.4f}'.format(bce_logits(y_true=[1], y_pred=logits)))"
      ],
      "metadata": {
        "colab": {
          "base_uri": "https://localhost:8080/"
        },
        "id": "H7fBd-YN0mCO",
        "outputId": "afbf970f-1ce4-49f4-82de-ff80cba380f6"
      },
      "execution_count": null,
      "outputs": [
        {
          "output_type": "stream",
          "name": "stdout",
          "text": [
            "BCE (w Probas): 1.1711 (w Logits): 1.1711\n",
            "BCE (w Probas): 0.3711 (w Logits): 0.3711\n"
          ]
        }
      ]
    },
    {
      "cell_type": "code",
      "source": [
        "####### Categorical Crossentropy\n",
        "cce_probas = tf.keras.losses.CategoricalCrossentropy(\n",
        "    from_logits=False)\n",
        "cce_logits = tf.keras.losses.CategoricalCrossentropy(\n",
        "    from_logits=True)\n",
        "\n",
        "logits = tf.constant([[1.5, 0.8, 2.1]])\n",
        "probas = tf.keras.activations.softmax(logits)\n",
        "\n",
        "tf.print(\n",
        "    'CCE (w Probas): {:.4f}'.format(\n",
        "    cce_probas(y_true=[[0, 0, 1]], y_pred=probas)),\n",
        "    '(w Logits): {:.4f}'.format(\n",
        "    cce_logits(y_true=[[0, 0, 1]], y_pred=logits)))"
      ],
      "metadata": {
        "colab": {
          "base_uri": "https://localhost:8080/"
        },
        "id": "n_LQWlXM0mAA",
        "outputId": "6576b409-1d17-4adb-c112-9c1678dfe5c6"
      },
      "execution_count": null,
      "outputs": [
        {
          "output_type": "stream",
          "name": "stdout",
          "text": [
            "CCE (w Probas): 0.5996 (w Logits): 0.5996\n"
          ]
        }
      ]
    },
    {
      "cell_type": "code",
      "source": [
        "####### Sparse Categorical Crossentropy\n",
        "sp_cce_probas = tf.keras.losses.SparseCategoricalCrossentropy(\n",
        "    from_logits=False)\n",
        "sp_cce_logits = tf.keras.losses.SparseCategoricalCrossentropy(\n",
        "    from_logits=True)\n",
        "\n",
        "tf.print(\n",
        "    'Sparse CCE (w Probas): {:.4f}'.format(\n",
        "    sp_cce_probas(y_true=[2], y_pred=probas)),\n",
        "    '(w Logits): {:.4f}'.format(\n",
        "    sp_cce_logits(y_true=[2], y_pred=logits)))"
      ],
      "metadata": {
        "colab": {
          "base_uri": "https://localhost:8080/"
        },
        "id": "813s6I2I0l-c",
        "outputId": "8c79804a-2179-43a5-d2df-a6a86b1ff3f9"
      },
      "execution_count": null,
      "outputs": [
        {
          "output_type": "stream",
          "name": "stdout",
          "text": [
            "Sparse CCE (w Probas): 0.5996 (w Logits): 0.5996\n"
          ]
        }
      ]
    },
    {
      "cell_type": "code",
      "source": [
        "# Commented out IPython magic to ensure Python compatibility.\n",
        "import tensorflow_datasets as tfds\n",
        "import pandas as pd\n",
        "\n",
        "import matplotlib.pyplot as plt"
      ],
      "metadata": {
        "id": "cIPW57HZ0l7m"
      },
      "execution_count": null,
      "outputs": []
    },
    {
      "cell_type": "markdown",
      "source": [
        "# **MNISTデータセットの読み込み**"
      ],
      "metadata": {
        "id": "kt2fcFQ42x7R"
      }
    },
    {
      "cell_type": "code",
      "source": [
        "mnist_bldr = tfds.builder('mnist')\n",
        "mnist_bldr.download_and_prepare()\n",
        "datasets = mnist_bldr.as_dataset(shuffle_files=False)\n",
        "print(datasets.keys())\n",
        "mnist_train_orig, mnist_test_orig = datasets['train'], datasets['test']"
      ],
      "metadata": {
        "colab": {
          "base_uri": "https://localhost:8080/",
          "height": 233,
          "referenced_widgets": [
            "7bee3e920a6f4e918790b5685e7eea96",
            "77e24d8787aa4893abf0a50eea47bae0",
            "23d3446cecba41e2b0f4121c34f6e96a",
            "de6ecb114ad74548a52482fd5fe1b717",
            "01033752038b4c13bfb8198bd922dc03",
            "63674572d0444ecab15da9445d205fa8",
            "55cf86972c77433eb0afd45a8c230ab3",
            "ae827f32a54349f0871d2ad9d5331b97",
            "3476e8512aa148848551ba79530046c5",
            "948fc3d536534683a4f63e49cf9f4be0",
            "79845f9748344db49a19af5d205e4d4a"
          ]
        },
        "id": "-dIFM0ny2C5c",
        "outputId": "767d9f21-4c2c-46a8-eb1a-971886010588"
      },
      "execution_count": null,
      "outputs": [
        {
          "output_type": "stream",
          "name": "stdout",
          "text": [
            "\u001b[1mDownloading and preparing dataset mnist/3.0.1 (download: 11.06 MiB, generated: 21.00 MiB, total: 32.06 MiB) to /root/tensorflow_datasets/mnist/3.0.1...\u001b[0m\n"
          ]
        },
        {
          "output_type": "stream",
          "name": "stderr",
          "text": [
            "WARNING:absl:Dataset mnist is hosted on GCS. It will automatically be downloaded to your\n",
            "local data directory. If you'd instead prefer to read directly from our public\n",
            "GCS bucket (recommended if you're running on GCP), you can instead pass\n",
            "`try_gcs=True` to `tfds.load` or set `data_dir=gs://tfds-data/datasets`.\n",
            "\n"
          ]
        },
        {
          "output_type": "display_data",
          "data": {
            "text/plain": [
              "Dl Completed...:   0%|          | 0/4 [00:00<?, ? file/s]"
            ],
            "application/vnd.jupyter.widget-view+json": {
              "version_major": 2,
              "version_minor": 0,
              "model_id": "7bee3e920a6f4e918790b5685e7eea96"
            }
          },
          "metadata": {}
        },
        {
          "output_type": "stream",
          "name": "stdout",
          "text": [
            "\n",
            "\u001b[1mDataset mnist downloaded and prepared to /root/tensorflow_datasets/mnist/3.0.1. Subsequent calls will reuse this data.\u001b[0m\n",
            "dict_keys(['test', 'train'])\n"
          ]
        }
      ]
    },
    {
      "cell_type": "markdown",
      "source": [
        "# **標準化**"
      ],
      "metadata": {
        "id": "723ESVSl23xl"
      }
    },
    {
      "cell_type": "code",
      "source": [
        "mnist_train = mnist_train_orig.map(\n",
        "    lambda item: (tf.cast(item['image'], tf.float32)/255.0, \n",
        "                  tf.cast(item['label'], tf.int32)))\n",
        "\n",
        "mnist_test = mnist_test_orig.map(\n",
        "    lambda item: (tf.cast(item['image'], tf.float32)/255.0, \n",
        "                  tf.cast(item['label'], tf.int32)))"
      ],
      "metadata": {
        "id": "BdTkmc9X2k8Y"
      },
      "execution_count": null,
      "outputs": []
    },
    {
      "cell_type": "markdown",
      "source": [
        "# **試しに描画してみる**"
      ],
      "metadata": {
        "id": "8vJtblIz21xm"
      }
    },
    {
      "cell_type": "code",
      "source": [
        "batch_train = next(iter(mnist_train.batch(12)))\n",
        "\n",
        "fig = plt.figure(figsize=(12, 4))\n",
        "for i in range(12):\n",
        "    ax = fig.add_subplot(2, 6, i+1)\n",
        "    ax.set_xticks([]); ax.set_yticks([])\n",
        "    img = batch_train[0][i, :, :, 0]\n",
        "    ax.imshow(np.squeeze(img), cmap='gray_r')"
      ],
      "metadata": {
        "colab": {
          "base_uri": "https://localhost:8080/",
          "height": 229
        },
        "id": "6eER5Y7j2o3k",
        "outputId": "a78c31c0-cc46-4c1e-e5a6-afd582eb3184"
      },
      "execution_count": null,
      "outputs": [
        {
          "output_type": "display_data",
          "data": {
            "text/plain": [
              "<Figure size 864x288 with 12 Axes>"
            ],
            "image/png": "[encoded data removed]"
          },
          "metadata": {}
        }
      ]
    },
    {
      "cell_type": "markdown",
      "source": [
        "# **訓練データと検証データへの分割とバッチ生成**"
      ],
      "metadata": {
        "id": "-tCtSB352_NN"
      }
    },
    {
      "cell_type": "code",
      "source": [
        "BUFFER_SIZE = 10000\n",
        "BATCH_SIZE = 64\n",
        "NUM_EPOCHS = 20\n",
        "\n",
        "tf.random.set_seed(1)\n",
        "\n",
        "mnist_train = mnist_train.shuffle(buffer_size=BUFFER_SIZE,\n",
        "                                  reshuffle_each_iteration=False)\n",
        "\n",
        "mnist_valid = mnist_train.take(10000).batch(BATCH_SIZE)\n",
        "mnist_train = mnist_train.skip(10000).batch(BATCH_SIZE)"
      ],
      "metadata": {
        "id": "XFHEQn4-2syO"
      },
      "execution_count": null,
      "outputs": []
    },
    {
      "cell_type": "markdown",
      "source": [
        "# **TensorFlow KerasのLayers APIを使ったCNN全体の実装**"
      ],
      "metadata": {
        "id": "Unk2GJV54ga7"
      }
    },
    {
      "cell_type": "markdown",
      "source": [
        "tk.keras.layers.Conv2D\n",
        "畳み込み層\n",
        "\n",
        "tk.keras.layers.MaxPool2D / tk.keras.layers.AveragePooling2D\n",
        "プーリング層\n",
        "\n",
        "tk.keras.layers.Dropout\n",
        "ドロップアウト層\n",
        "\n",
        "tf.keras.layers.Dense\n",
        "全結合層\n"
      ],
      "metadata": {
        "id": "-1PIp_Gn3Hjd"
      }
    },
    {
      "cell_type": "code",
      "source": [
        "model = tf.keras.Sequential()\n",
        "\n",
        "model.add(tf.keras.layers.Conv2D(\n",
        "    filters=32, kernel_size=(5, 5),\n",
        "    strides=(1, 1), padding='same',\n",
        "    data_format='channels_last',\n",
        "    name='conv_1', activation='relu'))\n",
        "\n",
        "model.add(tf.keras.layers.MaxPool2D(\n",
        "    pool_size=(2, 2), name='pool_1'))\n",
        "    \n",
        "model.add(tf.keras.layers.Conv2D(\n",
        "    filters=64, kernel_size=(5, 5),\n",
        "    strides=(1, 1), padding='same',\n",
        "    name='conv_2', activation='relu'))\n",
        "\n",
        "model.add(tf.keras.layers.MaxPool2D(pool_size=(2, 2), name='pool_2'))"
      ],
      "metadata": {
        "id": "AMQ3PlaW2C3l"
      },
      "execution_count": null,
      "outputs": []
    },
    {
      "cell_type": "code",
      "source": [
        "model.compute_output_shape(input_shape=(16, 28, 28, 1))\n",
        "\n",
        "model.compute_output_shape(input_shape=(None, 28, 28, 1))\n",
        "\n",
        "model.add(tf.keras.layers.Flatten())\n",
        "    \n",
        "model.compute_output_shape(input_shape=(16, 28, 28, 1))"
      ],
      "metadata": {
        "colab": {
          "base_uri": "https://localhost:8080/"
        },
        "id": "sgeH0c2c2C0-",
        "outputId": "cf0c4ab1-b6b9-40c9-b536-87b12c045ddd"
      },
      "execution_count": null,
      "outputs": [
        {
          "output_type": "execute_result",
          "data": {
            "text/plain": [
              "TensorShape([16, 3136])"
            ]
          },
          "metadata": {},
          "execution_count": 22
        }
      ]
    },
    {
      "cell_type": "code",
      "source": [
        "model.add(tf.keras.layers.Dense(\n",
        "    units=1024, name='fc_1', \n",
        "    activation='relu'))\n",
        "\n",
        "model.add(tf.keras.layers.Dropout(\n",
        "    rate=0.5))\n",
        "    \n",
        "model.add(tf.keras.layers.Dense(\n",
        "    units=10, name='fc_2',\n",
        "    activation='softmax'))\n",
        "\n",
        "model.compute_output_shape(input_shape=(16, 28, 28, 1))"
      ],
      "metadata": {
        "colab": {
          "base_uri": "https://localhost:8080/"
        },
        "id": "q1kmIUtE2Cyf",
        "outputId": "a4a613fc-bb11-40c6-bd50-6ba853b708e7"
      },
      "execution_count": null,
      "outputs": [
        {
          "output_type": "execute_result",
          "data": {
            "text/plain": [
              "TensorShape([16, 10])"
            ]
          },
          "metadata": {},
          "execution_count": 23
        }
      ]
    },
    {
      "cell_type": "markdown",
      "source": [
        "# **モデルの作成と構成の確認**"
      ],
      "metadata": {
        "id": "B0cydz-S6yzC"
      }
    },
    {
      "cell_type": "code",
      "source": [
        "tf.random.set_seed(1)\n",
        "model.build(input_shape=(None, 28, 28, 1))\n",
        "\n",
        "model.summary()"
      ],
      "metadata": {
        "colab": {
          "base_uri": "https://localhost:8080/"
        },
        "id": "o-AwLRzS2Cvt",
        "outputId": "02e4403a-648b-46c7-d246-cd2c23ffa349"
      },
      "execution_count": null,
      "outputs": [
        {
          "output_type": "stream",
          "name": "stdout",
          "text": [
            "Model: \"sequential\"\n",
            "_________________________________________________________________\n",
            " Layer (type)                Output Shape              Param #   \n",
            "=================================================================\n",
            " conv_1 (Conv2D)             (None, 28, 28, 32)        832       \n",
            "                                                                 \n",
            " pool_1 (MaxPooling2D)       (None, 14, 14, 32)        0         \n",
            "                                                                 \n",
            " conv_2 (Conv2D)             (None, 14, 14, 64)        51264     \n",
            "                                                                 \n",
            " pool_2 (MaxPooling2D)       (None, 7, 7, 64)          0         \n",
            "                                                                 \n",
            " flatten (Flatten)           (None, 3136)              0         \n",
            "                                                                 \n",
            " fc_1 (Dense)                (None, 1024)              3212288   \n",
            "                                                                 \n",
            " dropout (Dropout)           (None, 1024)              0         \n",
            "                                                                 \n",
            " fc_2 (Dense)                (None, 10)                10250     \n",
            "                                                                 \n",
            "=================================================================\n",
            "Total params: 3,274,634\n",
            "Trainable params: 3,274,634\n",
            "Non-trainable params: 0\n",
            "_________________________________________________________________\n"
          ]
        }
      ]
    },
    {
      "cell_type": "markdown",
      "source": [
        "# **モデルのコンパイルと学習**"
      ],
      "metadata": {
        "id": "Cs0a_a1S7Gu-"
      }
    },
    {
      "cell_type": "code",
      "source": [
        "model.compile(optimizer=tf.keras.optimizers.Adam(),\n",
        "              loss=tf.keras.losses.SparseCategoricalCrossentropy(),\n",
        "              metrics=['accuracy']) # same as `tf.keras.metrics.SparseCategoricalAccuracy(name='accuracy')`\n",
        "\n",
        "history = model.fit(mnist_train, epochs=NUM_EPOCHS, \n",
        "                    validation_data=mnist_valid, \n",
        "                    shuffle=True)"
      ],
      "metadata": {
        "colab": {
          "base_uri": "https://localhost:8080/"
        },
        "id": "LUux3n8262Dt",
        "outputId": "19287233-efc3-43e5-f652-4f166192fe7c"
      },
      "execution_count": null,
      "outputs": [
        {
          "output_type": "stream",
          "name": "stdout",
          "text": [
            "Epoch 1/20\n",
            "782/782 [==============================] - 153s 192ms/step - loss: 0.1373 - accuracy: 0.9573 - val_loss: 0.0460 - val_accuracy: 0.9860\n",
            "Epoch 2/20\n",
            "782/782 [==============================] - 146s 185ms/step - loss: 0.0450 - accuracy: 0.9860 - val_loss: 0.0395 - val_accuracy: 0.9882\n",
            "Epoch 3/20\n",
            "782/782 [==============================] - 146s 186ms/step - loss: 0.0293 - accuracy: 0.9909 - val_loss: 0.0381 - val_accuracy: 0.9883\n",
            "Epoch 4/20\n",
            "782/782 [==============================] - 144s 184ms/step - loss: 0.0228 - accuracy: 0.9930 - val_loss: 0.0387 - val_accuracy: 0.9889\n",
            "Epoch 5/20\n",
            "782/782 [==============================] - 146s 186ms/step - loss: 0.0182 - accuracy: 0.9944 - val_loss: 0.0381 - val_accuracy: 0.9900\n",
            "Epoch 6/20\n",
            "782/782 [==============================] - 144s 184ms/step - loss: 0.0160 - accuracy: 0.9946 - val_loss: 0.0380 - val_accuracy: 0.9900\n",
            "Epoch 7/20\n",
            "782/782 [==============================] - 143s 182ms/step - loss: 0.0114 - accuracy: 0.9963 - val_loss: 0.0443 - val_accuracy: 0.9905\n",
            "Epoch 8/20\n",
            "782/782 [==============================] - 144s 183ms/step - loss: 0.0115 - accuracy: 0.9966 - val_loss: 0.0407 - val_accuracy: 0.9901\n",
            "Epoch 9/20\n",
            "782/782 [==============================] - 143s 182ms/step - loss: 0.0103 - accuracy: 0.9967 - val_loss: 0.0489 - val_accuracy: 0.9892\n",
            "Epoch 10/20\n",
            "782/782 [==============================] - 143s 182ms/step - loss: 0.0091 - accuracy: 0.9972 - val_loss: 0.0475 - val_accuracy: 0.9904\n",
            "Epoch 11/20\n",
            "782/782 [==============================] - 143s 182ms/step - loss: 0.0091 - accuracy: 0.9972 - val_loss: 0.0477 - val_accuracy: 0.9897\n",
            "Epoch 12/20\n",
            "782/782 [==============================] - 143s 182ms/step - loss: 0.0083 - accuracy: 0.9972 - val_loss: 0.0451 - val_accuracy: 0.9904\n",
            "Epoch 13/20\n",
            "782/782 [==============================] - 143s 182ms/step - loss: 0.0088 - accuracy: 0.9973 - val_loss: 0.0527 - val_accuracy: 0.9905\n",
            "Epoch 14/20\n",
            "782/782 [==============================] - 144s 183ms/step - loss: 0.0067 - accuracy: 0.9976 - val_loss: 0.0513 - val_accuracy: 0.9905\n",
            "Epoch 15/20\n",
            "782/782 [==============================] - 144s 183ms/step - loss: 0.0066 - accuracy: 0.9978 - val_loss: 0.0568 - val_accuracy: 0.9899\n",
            "Epoch 16/20\n",
            "782/782 [==============================] - 143s 182ms/step - loss: 0.0074 - accuracy: 0.9978 - val_loss: 0.0601 - val_accuracy: 0.9889\n",
            "Epoch 17/20\n",
            "782/782 [==============================] - 143s 181ms/step - loss: 0.0055 - accuracy: 0.9985 - val_loss: 0.0564 - val_accuracy: 0.9909\n",
            "Epoch 18/20\n",
            "782/782 [==============================] - 143s 182ms/step - loss: 0.0072 - accuracy: 0.9980 - val_loss: 0.0752 - val_accuracy: 0.9882\n",
            "Epoch 19/20\n",
            "782/782 [==============================] - 144s 183ms/step - loss: 0.0056 - accuracy: 0.9981 - val_loss: 0.0771 - val_accuracy: 0.9878\n",
            "Epoch 20/20\n",
            "782/782 [==============================] - 143s 182ms/step - loss: 0.0069 - accuracy: 0.9980 - val_loss: 0.0635 - val_accuracy: 0.9898\n"
          ]
        }
      ]
    },
    {
      "cell_type": "markdown",
      "source": [
        "# **学習曲線の確認**"
      ],
      "metadata": {
        "id": "_cmjPF-u7KDC"
      }
    },
    {
      "cell_type": "code",
      "source": [
        "\n",
        "hist = history.history\n",
        "x_arr = np.arange(len(hist['loss'])) + 1\n",
        "\n",
        "fig = plt.figure(figsize=(12, 4))\n",
        "ax = fig.add_subplot(1, 2, 1)\n",
        "ax.plot(x_arr, hist['loss'], '-o', label='Train loss')\n",
        "ax.plot(x_arr, hist['val_loss'], '--<', label='Validation loss')\n",
        "ax.set_xlabel('Epoch', size=15)\n",
        "ax.set_ylabel('Loss', size=15)\n",
        "ax.legend(fontsize=15)\n",
        "ax = fig.add_subplot(1, 2, 2)\n",
        "ax.plot(x_arr, hist['accuracy'], '-o', label='Train acc.')\n",
        "ax.plot(x_arr, hist['val_accuracy'], '--<', label='Validation acc.')\n",
        "ax.legend(fontsize=15)\n",
        "ax.set_xlabel('Epoch', size=15)\n",
        "ax.set_ylabel('Accuracy', size=15)\n",
        "\n",
        "#plt.savefig('figures/15_12.png', dpi=300)\n",
        "plt.show()"
      ],
      "metadata": {
        "colab": {
          "base_uri": "https://localhost:8080/",
          "height": 248
        },
        "id": "GI9AmDLC7NPq",
        "outputId": "6b0e06ea-73a9-4e34-9bb4-fd0b7d917abd"
      },
      "execution_count": null,
      "outputs": [
        {
          "output_type": "display_data",
          "data": {
            "text/plain": [
              "<Figure size 864x288 with 2 Axes>"
            ],
            "image/png": "[encoded data removed]"
          },
          "metadata": {
            "needs_background": "light"
          }
        }
      ]
    },
    {
      "cell_type": "markdown",
      "source": [
        "# **学習結果を確認する**"
      ],
      "metadata": {
        "id": "omEr7qGO7fWf"
      }
    },
    {
      "cell_type": "code",
      "source": [
        "test_results = model.evaluate(mnist_test.batch(20))\n",
        "print('\\nTest Acc. {:.2f}%'.format(test_results[1]*100))"
      ],
      "metadata": {
        "colab": {
          "base_uri": "https://localhost:8080/"
        },
        "id": "W83gUzUX7Nmf",
        "outputId": "c330fce0-e43b-4ec8-910e-8f1dfb725006"
      },
      "execution_count": null,
      "outputs": [
        {
          "output_type": "stream",
          "name": "stdout",
          "text": [
            "500/500 [==============================] - 17s 33ms/step - loss: 0.0409 - accuracy: 0.9923\n",
            "\n",
            "Test Acc. 99.23%\n"
          ]
        }
      ]
    },
    {
      "cell_type": "code",
      "source": [
        "batch_test = next(iter(mnist_test.batch(12)))\n",
        "\n",
        "preds = model(batch_test[0])\n",
        "\n",
        "tf.print(preds.shape)\n",
        "preds = tf.argmax(preds, axis=1)\n",
        "print(preds)\n",
        "\n",
        "fig = plt.figure(figsize=(12, 4))\n",
        "for i in range(12):\n",
        "    ax = fig.add_subplot(2, 6, i+1)\n",
        "    ax.set_xticks([]); ax.set_yticks([])\n",
        "    img = batch_test[0][i, :, :, 0]\n",
        "    ax.imshow(img, cmap='gray_r')\n",
        "    ax.text(0.9, 0.1, '{}'.format(preds[i]), \n",
        "            size=15, color='blue',\n",
        "            horizontalalignment='center',\n",
        "            verticalalignment='center', \n",
        "            transform=ax.transAxes)"
      ],
      "metadata": {
        "colab": {
          "base_uri": "https://localhost:8080/",
          "height": 266
        },
        "id": "Dics-JU57Njt",
        "outputId": "5fc67ac5-7440-4457-886a-cf2b51cfe626"
      },
      "execution_count": null,
      "outputs": [
        {
          "output_type": "stream",
          "name": "stdout",
          "text": [
            "TensorShape([12, 10])\n",
            "tf.Tensor([2 0 4 8 7 6 0 6 3 1 8 0], shape=(12,), dtype=int64)\n"
          ]
        },
        {
          "output_type": "display_data",
          "data": {
            "text/plain": [
              "<Figure size 864x288 with 12 Axes>"
            ],
            "image/png": "[encoded data removed]"
          },
          "metadata": {}
        }
      ]
    }
  ]
}