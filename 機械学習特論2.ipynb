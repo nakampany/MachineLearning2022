{
  "cells": [
    {
      "cell_type": "code",
      "execution_count": 1,
      "metadata": {
        "colab": {
          "base_uri": "https://localhost:8080/"
        },
        "id": "Sh_ujqpFkkHY",
        "outputId": "e8fa2415-c480-4b6d-8610-5b7a99ee0473"
      },
      "outputs": [
        {
          "name": "stdout",
          "output_type": "stream",
          "text": [
            "Python 3.9.12\n"
          ]
        }
      ],
      "source": [
        "! python --version"
      ]
    },
    {
      "cell_type": "code",
      "execution_count": 2,
      "metadata": {
        "colab": {
          "base_uri": "https://localhost:8080/"
        },
        "id": "gcP7lJEEIzoP",
        "outputId": "d11c5802-7196-4a1b-c6d0-a8bce0978858"
      },
      "outputs": [
        {
          "data": {
            "text/plain": [
              "4"
            ]
          },
          "execution_count": 2,
          "metadata": {},
          "output_type": "execute_result"
        }
      ],
      "source": [
        "2 + 2"
      ]
    },
    {
      "cell_type": "code",
      "execution_count": 3,
      "metadata": {
        "colab": {
          "base_uri": "https://localhost:8080/"
        },
        "id": "hYVkWahWI7o9",
        "outputId": "906e9bc2-6631-4a02-86b0-6c83bfa71d6b"
      },
      "outputs": [
        {
          "data": {
            "text/plain": [
              "20"
            ]
          },
          "execution_count": 3,
          "metadata": {},
          "output_type": "execute_result"
        }
      ],
      "source": [
        "50 -5*6"
      ]
    },
    {
      "cell_type": "code",
      "execution_count": 4,
      "metadata": {
        "colab": {
          "base_uri": "https://localhost:8080/"
        },
        "id": "9wsJFCfMJA7K",
        "outputId": "69e40c9f-b3a1-4676-d96c-af1902c3ee27"
      },
      "outputs": [
        {
          "data": {
            "text/plain": [
              "5.666666666666667"
            ]
          },
          "execution_count": 4,
          "metadata": {},
          "output_type": "execute_result"
        }
      ],
      "source": [
        "17 / 3"
      ]
    },
    {
      "cell_type": "code",
      "execution_count": 5,
      "metadata": {
        "colab": {
          "base_uri": "https://localhost:8080/"
        },
        "id": "SPZlF89hJEXa",
        "outputId": "c57990d0-4099-440e-f3f2-45ab12556a9b"
      },
      "outputs": [
        {
          "data": {
            "text/plain": [
              "5"
            ]
          },
          "execution_count": 5,
          "metadata": {},
          "output_type": "execute_result"
        }
      ],
      "source": [
        "17//3"
      ]
    },
    {
      "cell_type": "code",
      "execution_count": 6,
      "metadata": {
        "colab": {
          "base_uri": "https://localhost:8080/"
        },
        "id": "W4f5PTGDJZHM",
        "outputId": "888deaf8-2426-4904-d775-0c41a97b9dc0"
      },
      "outputs": [
        {
          "data": {
            "text/plain": [
              "2"
            ]
          },
          "execution_count": 6,
          "metadata": {},
          "output_type": "execute_result"
        }
      ],
      "source": [
        "17%3"
      ]
    },
    {
      "cell_type": "code",
      "execution_count": 7,
      "metadata": {
        "colab": {
          "base_uri": "https://localhost:8080/"
        },
        "id": "VTJyN9LiJGcl",
        "outputId": "c3c46a16-496b-4061-fb9f-d888db73177a"
      },
      "outputs": [
        {
          "data": {
            "text/plain": [
              "5.0"
            ]
          },
          "execution_count": 7,
          "metadata": {},
          "output_type": "execute_result"
        }
      ],
      "source": [
        "(50-5*6)/4"
      ]
    },
    {
      "cell_type": "code",
      "execution_count": 8,
      "metadata": {
        "colab": {
          "base_uri": "https://localhost:8080/"
        },
        "id": "V4cUhQYCJNOM",
        "outputId": "ac843493-4f9b-40c0-d217-1bc8289ac94d"
      },
      "outputs": [
        {
          "data": {
            "text/plain": [
              "900"
            ]
          },
          "execution_count": 8,
          "metadata": {},
          "output_type": "execute_result"
        }
      ],
      "source": [
        "width=20\n",
        "height=5*9\n",
        "width*height"
      ]
    },
    {
      "cell_type": "code",
      "execution_count": 9,
      "metadata": {
        "colab": {
          "base_uri": "https://localhost:8080/"
        },
        "id": "6flxq_kiJrDA",
        "outputId": "855183a4-e251-4cc8-c32e-9195a7aa14d4"
      },
      "outputs": [
        {
          "name": "stdout",
          "output_type": "stream",
          "text": [
            "foo\n"
          ]
        }
      ],
      "source": [
        "a = \"foo\"\n",
        "print(a)"
      ]
    },
    {
      "cell_type": "code",
      "execution_count": 10,
      "metadata": {
        "colab": {
          "base_uri": "https://localhost:8080/"
        },
        "id": "6GS8RgpeJ9Yz",
        "outputId": "05bf41d3-8a53-4d29-f43c-778917155eba"
      },
      "outputs": [
        {
          "name": "stdout",
          "output_type": "stream",
          "text": [
            "bar\n"
          ]
        }
      ],
      "source": [
        "b = 'bar'\n",
        "print(b)"
      ]
    },
    {
      "cell_type": "code",
      "execution_count": 11,
      "metadata": {
        "colab": {
          "base_uri": "https://localhost:8080/",
          "height": 36
        },
        "id": "RBD21nj1KLqg",
        "outputId": "a2a888ca-a46b-4e8b-9224-5472fcfc1a49"
      },
      "outputs": [
        {
          "data": {
            "text/plain": [
              "'foobar'"
            ]
          },
          "execution_count": 11,
          "metadata": {},
          "output_type": "execute_result"
        }
      ],
      "source": [
        "a + b"
      ]
    },
    {
      "cell_type": "code",
      "execution_count": 12,
      "metadata": {
        "colab": {
          "base_uri": "https://localhost:8080/"
        },
        "id": "ppDmfkF1KVz5",
        "outputId": "d09660d1-a7c2-42ab-e43a-20809b35b82e"
      },
      "outputs": [
        {
          "name": "stdout",
          "output_type": "stream",
          "text": [
            "foobar\n"
          ]
        }
      ],
      "source": [
        "c = a + b\n",
        "print(c)"
      ]
    },
    {
      "cell_type": "code",
      "execution_count": 13,
      "metadata": {
        "colab": {
          "base_uri": "https://localhost:8080/"
        },
        "id": "qGnLp9WWKYzo",
        "outputId": "fbb8f530-3f30-4f39-a05b-35999a975b88"
      },
      "outputs": [
        {
          "data": {
            "text/plain": [
              "6"
            ]
          },
          "execution_count": 13,
          "metadata": {},
          "output_type": "execute_result"
        }
      ],
      "source": [
        "len(c)"
      ]
    },
    {
      "cell_type": "code",
      "execution_count": 14,
      "metadata": {
        "colab": {
          "base_uri": "https://localhost:8080/"
        },
        "id": "2ZZpXtSKKfov",
        "outputId": "28a32419-0b92-401c-e7fe-173420e8b5f0"
      },
      "outputs": [
        {
          "name": "stdout",
          "output_type": "stream",
          "text": [
            "Python\n"
          ]
        }
      ],
      "source": [
        "word = \"Python\"\n",
        "print(word)"
      ]
    },
    {
      "cell_type": "code",
      "execution_count": 15,
      "metadata": {
        "colab": {
          "base_uri": "https://localhost:8080/",
          "height": 36
        },
        "id": "V82MPc64KkfW",
        "outputId": "854737cc-e13a-4446-fdbc-a108d1fe3f56"
      },
      "outputs": [
        {
          "data": {
            "text/plain": [
              "'Py'"
            ]
          },
          "execution_count": 15,
          "metadata": {},
          "output_type": "execute_result"
        }
      ],
      "source": [
        "word[0:2]"
      ]
    },
    {
      "cell_type": "code",
      "execution_count": 16,
      "metadata": {
        "colab": {
          "base_uri": "https://localhost:8080/",
          "height": 36
        },
        "id": "Ppv6iUtCKqCM",
        "outputId": "0e8fe73a-0793-44b3-9e2f-d052f790f548"
      },
      "outputs": [
        {
          "data": {
            "text/plain": [
              "'tho'"
            ]
          },
          "execution_count": 16,
          "metadata": {},
          "output_type": "execute_result"
        }
      ],
      "source": [
        "word[2:5]"
      ]
    },
    {
      "cell_type": "code",
      "execution_count": 17,
      "metadata": {
        "colab": {
          "base_uri": "https://localhost:8080/",
          "height": 36
        },
        "id": "JiuGIb91Kugt",
        "outputId": "f29299ec-1a95-48e4-9436-1803614451f1"
      },
      "outputs": [
        {
          "data": {
            "text/plain": [
              "'Py'"
            ]
          },
          "execution_count": 17,
          "metadata": {},
          "output_type": "execute_result"
        }
      ],
      "source": [
        "word[:2]"
      ]
    },
    {
      "cell_type": "code",
      "execution_count": 18,
      "metadata": {
        "colab": {
          "base_uri": "https://localhost:8080/",
          "height": 36
        },
        "id": "97CRrV4qKx4I",
        "outputId": "139c7b89-5fee-494f-ab7e-f5fcff713a1e"
      },
      "outputs": [
        {
          "data": {
            "text/plain": [
              "'thon'"
            ]
          },
          "execution_count": 18,
          "metadata": {},
          "output_type": "execute_result"
        }
      ],
      "source": [
        "word[2:]"
      ]
    },
    {
      "cell_type": "code",
      "execution_count": 19,
      "metadata": {
        "colab": {
          "base_uri": "https://localhost:8080/",
          "height": 36
        },
        "id": "dPl1xS3wK08P",
        "outputId": "ef60e0cf-8add-4f06-8ddd-b85194532c1b"
      },
      "outputs": [
        {
          "data": {
            "text/plain": [
              "'on'"
            ]
          },
          "execution_count": 19,
          "metadata": {},
          "output_type": "execute_result"
        }
      ],
      "source": [
        "word[-2:]"
      ]
    },
    {
      "cell_type": "code",
      "execution_count": 20,
      "metadata": {
        "id": "pMEWiigGK3Xn"
      },
      "outputs": [],
      "source": [
        "digits = \"0123456789\""
      ]
    },
    {
      "cell_type": "code",
      "execution_count": 21,
      "metadata": {
        "colab": {
          "base_uri": "https://localhost:8080/",
          "height": 36
        },
        "id": "G1NP4SotK7qI",
        "outputId": "32a2c0fd-3b4f-4005-b0a1-ba8b8200bc48"
      },
      "outputs": [
        {
          "data": {
            "text/plain": [
              "'02468'"
            ]
          },
          "execution_count": 21,
          "metadata": {},
          "output_type": "execute_result"
        }
      ],
      "source": [
        "digits[::2]"
      ]
    },
    {
      "cell_type": "code",
      "execution_count": 22,
      "metadata": {
        "colab": {
          "base_uri": "https://localhost:8080/",
          "height": 36
        },
        "id": "1XCOrZWKLRhJ",
        "outputId": "7cff0559-e097-4e8e-eaa9-cb0af94d2f56"
      },
      "outputs": [
        {
          "data": {
            "text/plain": [
              "'01'"
            ]
          },
          "execution_count": 22,
          "metadata": {},
          "output_type": "execute_result"
        }
      ],
      "source": [
        "digits[:2]"
      ]
    },
    {
      "cell_type": "code",
      "execution_count": 23,
      "metadata": {
        "colab": {
          "base_uri": "https://localhost:8080/",
          "height": 36
        },
        "id": "Nj3YRcq8LABL",
        "outputId": "1d6eaa36-1a8e-4b16-e8c0-68e86139cc87"
      },
      "outputs": [
        {
          "data": {
            "text/plain": [
              "'13579'"
            ]
          },
          "execution_count": 23,
          "metadata": {},
          "output_type": "execute_result"
        }
      ],
      "source": [
        "digits[1::2]"
      ]
    },
    {
      "cell_type": "code",
      "execution_count": 24,
      "metadata": {
        "colab": {
          "base_uri": "https://localhost:8080/",
          "height": 36
        },
        "id": "q9pHXtkKLUeS",
        "outputId": "a5fe86ef-12c3-4770-eba1-8f1646df125f"
      },
      "outputs": [
        {
          "data": {
            "text/plain": [
              "'1'"
            ]
          },
          "execution_count": 24,
          "metadata": {},
          "output_type": "execute_result"
        }
      ],
      "source": [
        "digits[1:2]"
      ]
    },
    {
      "cell_type": "code",
      "execution_count": 25,
      "metadata": {
        "colab": {
          "base_uri": "https://localhost:8080/",
          "height": 36
        },
        "id": "20rcByBCLD-F",
        "outputId": "e61b5b9d-a234-4735-9b44-ec682d07ce6d"
      },
      "outputs": [
        {
          "data": {
            "text/plain": [
              "'02468'"
            ]
          },
          "execution_count": 25,
          "metadata": {},
          "output_type": "execute_result"
        }
      ],
      "source": [
        "digits[0::2]"
      ]
    },
    {
      "cell_type": "code",
      "execution_count": 26,
      "metadata": {
        "colab": {
          "base_uri": "https://localhost:8080/",
          "height": 36
        },
        "id": "5xSuGjaZLIrm",
        "outputId": "22a913c9-bd7d-4605-b4a4-f27407a49320"
      },
      "outputs": [
        {
          "data": {
            "text/plain": [
              "'024'"
            ]
          },
          "execution_count": 26,
          "metadata": {},
          "output_type": "execute_result"
        }
      ],
      "source": [
        "digits[0:5:2]"
      ]
    },
    {
      "cell_type": "code",
      "execution_count": 27,
      "metadata": {
        "colab": {
          "base_uri": "https://localhost:8080/",
          "height": 36
        },
        "id": "d6IgdY5YLeaj",
        "outputId": "2539923e-4e64-412a-c8d5-c89433468b3b"
      },
      "outputs": [
        {
          "data": {
            "text/plain": [
              "'0369'"
            ]
          },
          "execution_count": 27,
          "metadata": {},
          "output_type": "execute_result"
        }
      ],
      "source": [
        "digits[::3]"
      ]
    },
    {
      "cell_type": "code",
      "execution_count": 28,
      "metadata": {
        "colab": {
          "base_uri": "https://localhost:8080/"
        },
        "id": "wI3x2hjRLhLM",
        "outputId": "27ca2b5b-dd21-4c22-ea72-09454c85fd82"
      },
      "outputs": [
        {
          "name": "stdout",
          "output_type": "stream",
          "text": [
            "[1, 4, 9, 16, 25]\n"
          ]
        }
      ],
      "source": [
        "squares = [1,4,9,16,25]\n",
        "print(squares)"
      ]
    },
    {
      "cell_type": "code",
      "execution_count": 29,
      "metadata": {
        "colab": {
          "base_uri": "https://localhost:8080/"
        },
        "id": "GfHjJC4eLk8n",
        "outputId": "12b11aa4-9412-400e-8e67-26371ec47640"
      },
      "outputs": [
        {
          "data": {
            "text/plain": [
              "25"
            ]
          },
          "execution_count": 29,
          "metadata": {},
          "output_type": "execute_result"
        }
      ],
      "source": [
        "squares[4]"
      ]
    },
    {
      "cell_type": "code",
      "execution_count": 30,
      "metadata": {
        "colab": {
          "base_uri": "https://localhost:8080/"
        },
        "id": "XMw5aNRLLvd1",
        "outputId": "38d72578-5181-4ef4-9601-6e8861a1c807"
      },
      "outputs": [
        {
          "data": {
            "text/plain": [
              "[16, 25]"
            ]
          },
          "execution_count": 30,
          "metadata": {},
          "output_type": "execute_result"
        }
      ],
      "source": [
        "squares[3:]"
      ]
    },
    {
      "cell_type": "code",
      "execution_count": 31,
      "metadata": {
        "colab": {
          "base_uri": "https://localhost:8080/"
        },
        "id": "56lhlUdnL6Yu",
        "outputId": "25581621-c6d3-4166-f2eb-406f82929a64"
      },
      "outputs": [
        {
          "data": {
            "text/plain": [
              "[1, 4, 9, 16, 25, 36, 49, 64, 81, 100]"
            ]
          },
          "execution_count": 31,
          "metadata": {},
          "output_type": "execute_result"
        }
      ],
      "source": [
        "squares + [36, 49, 64, 81, 100]"
      ]
    },
    {
      "cell_type": "code",
      "execution_count": 32,
      "metadata": {
        "colab": {
          "base_uri": "https://localhost:8080/"
        },
        "id": "0OolHf7NNYF6",
        "outputId": "aaf3ce2a-276b-48e4-e9f4-10246505240a"
      },
      "outputs": [
        {
          "name": "stdout",
          "output_type": "stream",
          "text": [
            "cat 3\n",
            "window 6\n",
            "defenestrate 12\n"
          ]
        }
      ],
      "source": [
        "words = ['cat', 'window', 'defenestrate']\n",
        "for w in words:\n",
        "    print(w,len(w))"
      ]
    },
    {
      "cell_type": "code",
      "execution_count": 33,
      "metadata": {
        "id": "EQ07mAh0MCMf"
      },
      "outputs": [
        {
          "ename": "ModuleNotFoundError",
          "evalue": "No module named 'numpy'",
          "output_type": "error",
          "traceback": [
            "\u001b[0;31m---------------------------------------------------------------------------\u001b[0m",
            "\u001b[0;31mModuleNotFoundError\u001b[0m                       Traceback (most recent call last)",
            "\u001b[1;32mセル33 を /Users/naka/Desktop/macine-learning/機械学習特論2.ipynb\u001b[0m in \u001b[0;36m<cell line: 1>\u001b[0;34m()\u001b[0m\n\u001b[0;32m----> <a href='vscode-notebook-cell:/Users/naka/Desktop/macine-learning/%E6%A9%9F%E6%A2%B0%E5%AD%A6%E7%BF%92%E7%89%B9%E8%AB%962.ipynb#X44sZmlsZQ%3D%3D?line=0'>1</a>\u001b[0m \u001b[39mimport\u001b[39;00m \u001b[39mnumpy\u001b[39;00m \u001b[39mas\u001b[39;00m \u001b[39mnp\u001b[39;00m\n",
            "\u001b[0;31mModuleNotFoundError\u001b[0m: No module named 'numpy'"
          ]
        }
      ],
      "source": [
        "import numpy as np "
      ]
    },
    {
      "cell_type": "code",
      "execution_count": null,
      "metadata": {
        "colab": {
          "base_uri": "https://localhost:8080/"
        },
        "id": "HNEzbqXEMXM9",
        "outputId": "ab9122b1-3004-411d-8521-1d466777af61"
      },
      "outputs": [],
      "source": [
        "x = np.array([1,2,3])\n",
        "print(x)"
      ]
    },
    {
      "cell_type": "code",
      "execution_count": null,
      "metadata": {
        "colab": {
          "base_uri": "https://localhost:8080/"
        },
        "id": "8SfkM8SlMdQC",
        "outputId": "ff8eee8f-4090-4c8e-eea3-0e8dc0a39b03"
      },
      "outputs": [],
      "source": [
        "x.dtype"
      ]
    },
    {
      "cell_type": "code",
      "execution_count": null,
      "metadata": {
        "colab": {
          "base_uri": "https://localhost:8080/"
        },
        "id": "Bb4oTqsOMkbz",
        "outputId": "f0c77704-f109-4658-e67d-3ebc8349bd26"
      },
      "outputs": [],
      "source": [
        "x.itemsize"
      ]
    },
    {
      "cell_type": "code",
      "execution_count": null,
      "metadata": {
        "id": "weAWcMfSMphb"
      },
      "outputs": [],
      "source": [
        "y = np.array([1,2,3],dtype = np.float32)"
      ]
    },
    {
      "cell_type": "code",
      "execution_count": null,
      "metadata": {
        "colab": {
          "base_uri": "https://localhost:8080/"
        },
        "id": "ADN9YGxAM5xy",
        "outputId": "f42596ec-2bc8-404a-ebba-25771f08feb1"
      },
      "outputs": [],
      "source": [
        "np.sin(1)"
      ]
    },
    {
      "cell_type": "code",
      "execution_count": null,
      "metadata": {
        "colab": {
          "base_uri": "https://localhost:8080/"
        },
        "id": "6A2uvFzJNvrd",
        "outputId": "b8e2c30d-9d72-474d-dc61-33052574038b"
      },
      "outputs": [],
      "source": [
        "np.cos(1)"
      ]
    },
    {
      "cell_type": "code",
      "execution_count": null,
      "metadata": {
        "colab": {
          "base_uri": "https://localhost:8080/"
        },
        "id": "STt4dz3vNxfS",
        "outputId": "b29d044b-f6ab-4f17-ccfd-02fde0bc38e0"
      },
      "outputs": [],
      "source": [
        "np.sin(x)"
      ]
    },
    {
      "cell_type": "code",
      "execution_count": null,
      "metadata": {
        "colab": {
          "base_uri": "https://localhost:8080/"
        },
        "id": "vsZLVj1yNzXS",
        "outputId": "8c9efa9c-dadd-4bc9-9f2a-bc1ad8a61dcb"
      },
      "outputs": [],
      "source": [
        "np.cos(x)"
      ]
    },
    {
      "cell_type": "code",
      "execution_count": null,
      "metadata": {
        "colab": {
          "base_uri": "https://localhost:8080/"
        },
        "id": "Q48sy0WFN2_0",
        "outputId": "21a27692-69cc-44ca-94a5-0565b92a9b52"
      },
      "outputs": [],
      "source": [
        "[np.sin(i) for i in [1.0, 2.0, 3.0]]"
      ]
    },
    {
      "cell_type": "code",
      "execution_count": null,
      "metadata": {
        "colab": {
          "base_uri": "https://localhost:8080/"
        },
        "id": "rvMj9wmnN9aa",
        "outputId": "7aa24059-05eb-4075-9371-04cb440f9c0d"
      },
      "outputs": [],
      "source": [
        "x = np.array(([1,2,3],[4,5,6]))\n",
        "x"
      ]
    },
    {
      "cell_type": "code",
      "execution_count": null,
      "metadata": {
        "colab": {
          "base_uri": "https://localhost:8080/"
        },
        "id": "AC_9lgUeOObr",
        "outputId": "16f8b8f8-fdcd-4154-93bb-ce431bc62709"
      },
      "outputs": [],
      "source": [
        "x.shape"
      ]
    },
    {
      "cell_type": "code",
      "execution_count": null,
      "metadata": {
        "colab": {
          "base_uri": "https://localhost:8080/"
        },
        "id": "aGSRRTZROSRF",
        "outputId": "f3cd6028-1dd7-4254-a638-4b7e6b9a0581"
      },
      "outputs": [],
      "source": [
        "x[:,0]"
      ]
    },
    {
      "cell_type": "code",
      "execution_count": null,
      "metadata": {
        "colab": {
          "base_uri": "https://localhost:8080/"
        },
        "id": "L0iSv73gOb_D",
        "outputId": "f574e1a5-2e8f-4b07-8c20-81f35a01fd3e"
      },
      "outputs": [],
      "source": [
        "x[:,1]"
      ]
    },
    {
      "cell_type": "code",
      "execution_count": null,
      "metadata": {
        "colab": {
          "base_uri": "https://localhost:8080/"
        },
        "id": "QgGJd54yOfiG",
        "outputId": "5f48a58c-62bd-4ac5-bfb2-046ff336f92a"
      },
      "outputs": [],
      "source": [
        "x[0,:]"
      ]
    },
    {
      "cell_type": "code",
      "execution_count": null,
      "metadata": {
        "colab": {
          "base_uri": "https://localhost:8080/"
        },
        "id": "lgbpv4H4OoEL",
        "outputId": "e972102c-7d35-423a-bae6-a111c9c03d1b"
      },
      "outputs": [],
      "source": [
        "x[1,:]"
      ]
    },
    {
      "cell_type": "code",
      "execution_count": null,
      "metadata": {
        "colab": {
          "base_uri": "https://localhost:8080/"
        },
        "id": "D5JnAbYIOrbh",
        "outputId": "e81a2795-2ba1-48c3-80d1-714f638c5d63"
      },
      "outputs": [],
      "source": [
        "x[:,1:]"
      ]
    },
    {
      "cell_type": "code",
      "execution_count": null,
      "metadata": {
        "colab": {
          "base_uri": "https://localhost:8080/"
        },
        "id": "kTbpbsexOy3h",
        "outputId": "debdda57-24d8-48d6-cbc7-990fae778a83"
      },
      "outputs": [],
      "source": [
        "x[:,::2]"
      ]
    },
    {
      "cell_type": "code",
      "execution_count": null,
      "metadata": {
        "colab": {
          "base_uri": "https://localhost:8080/"
        },
        "id": "QnAYd4iLO2KM",
        "outputId": "57d2fa1f-0dd2-4280-8ff0-f054195850ed"
      },
      "outputs": [],
      "source": [
        "x[:,::-1]"
      ]
    },
    {
      "cell_type": "code",
      "execution_count": null,
      "metadata": {
        "colab": {
          "base_uri": "https://localhost:8080/"
        },
        "id": "aWIlLz-vO_qL",
        "outputId": "12978343-2226-40ce-b2de-c606b7bbd162"
      },
      "outputs": [],
      "source": [
        "x = np.ones((3,3))\n",
        "x"
      ]
    },
    {
      "cell_type": "code",
      "execution_count": null,
      "metadata": {
        "colab": {
          "base_uri": "https://localhost:8080/"
        },
        "id": "NoQRXJVEPElb",
        "outputId": "da37fc85-861b-4646-a21c-3630fe79d96e"
      },
      "outputs": [],
      "source": [
        "x[:,[0,1,2,2]]"
      ]
    },
    {
      "cell_type": "code",
      "execution_count": null,
      "metadata": {
        "colab": {
          "base_uri": "https://localhost:8080/"
        },
        "id": "na8g3k_LPOa9",
        "outputId": "11856937-29b2-4745-ded4-59a1c4bf6abe"
      },
      "outputs": [],
      "source": [
        "x"
      ]
    },
    {
      "cell_type": "code",
      "execution_count": null,
      "metadata": {
        "id": "lTlLxXwJPWUx"
      },
      "outputs": [],
      "source": [
        "y = x[:,[0,1,2,2]]"
      ]
    },
    {
      "cell_type": "code",
      "execution_count": null,
      "metadata": {
        "colab": {
          "base_uri": "https://localhost:8080/"
        },
        "id": "ksOcFQ4gPbZr",
        "outputId": "e7197323-a378-45d4-9745-a7f7fb1203a1"
      },
      "outputs": [],
      "source": [
        "x[1,1]"
      ]
    },
    {
      "cell_type": "code",
      "execution_count": null,
      "metadata": {
        "id": "59hrfP1RPeSt"
      },
      "outputs": [],
      "source": [
        "x[1,1] = 2"
      ]
    },
    {
      "cell_type": "code",
      "execution_count": null,
      "metadata": {
        "colab": {
          "base_uri": "https://localhost:8080/"
        },
        "id": "0IN1cJlkPiSc",
        "outputId": "14d75d71-f2c7-4331-a664-ea18cc0130d7"
      },
      "outputs": [],
      "source": [
        "y"
      ]
    },
    {
      "cell_type": "code",
      "execution_count": null,
      "metadata": {
        "colab": {
          "base_uri": "https://localhost:8080/"
        },
        "id": "A6xyNstzPjyQ",
        "outputId": "efbb8213-a9da-4af1-e8c4-c2d7c20dd74f"
      },
      "outputs": [],
      "source": [
        "y = np.ones((3,3))\n",
        "y = x.copy()\n",
        "x[0,0] =999\n",
        "x"
      ]
    },
    {
      "cell_type": "code",
      "execution_count": null,
      "metadata": {
        "colab": {
          "base_uri": "https://localhost:8080/"
        },
        "id": "OxPgU6UPPp8H",
        "outputId": "1f793861-6439-4494-8dd6-95b7cfd3ae3a"
      },
      "outputs": [],
      "source": [
        "y"
      ]
    },
    {
      "cell_type": "code",
      "execution_count": null,
      "metadata": {
        "colab": {
          "base_uri": "https://localhost:8080/"
        },
        "id": "ukllM1kzP3Am",
        "outputId": "0e67aadb-0033-464b-f5a9-7daa8469708a"
      },
      "outputs": [],
      "source": [
        "x = np.ones((3,3))\n",
        "y = x[:2, :2]\n",
        "y"
      ]
    },
    {
      "cell_type": "code",
      "execution_count": null,
      "metadata": {
        "id": "qC_z7uf3P_II"
      },
      "outputs": [],
      "source": [
        "x[0, 0] = 999"
      ]
    },
    {
      "cell_type": "code",
      "execution_count": null,
      "metadata": {
        "colab": {
          "base_uri": "https://localhost:8080/"
        },
        "id": "St2r80ImQN4X",
        "outputId": "75e34e2b-e6e5-4558-a635-53344ef6ed2a"
      },
      "outputs": [],
      "source": [
        "y"
      ]
    },
    {
      "cell_type": "code",
      "execution_count": null,
      "metadata": {
        "colab": {
          "base_uri": "https://localhost:8080/"
        },
        "id": "GQ-123QxQQ1E",
        "outputId": "f9cd3d6a-a81d-4028-c8ad-dae7a883d1c7"
      },
      "outputs": [],
      "source": [
        "A = np.matrix([[1,2,3],[4,5,6],[7,8,9]])\n",
        "A"
      ]
    },
    {
      "cell_type": "code",
      "execution_count": null,
      "metadata": {
        "colab": {
          "base_uri": "https://localhost:8080/"
        },
        "id": "U7oMJRd0QVd_",
        "outputId": "9e3d1cd5-16f8-4a82-97da-6000736e9e0f"
      },
      "outputs": [],
      "source": [
        "x = np.matrix(([1],[2],[3]))\n",
        "x"
      ]
    },
    {
      "cell_type": "code",
      "execution_count": null,
      "metadata": {
        "colab": {
          "base_uri": "https://localhost:8080/"
        },
        "id": "qAO74MiFQkzZ",
        "outputId": "af8b5c63-87e3-46d9-e691-6555a432eaa4"
      },
      "outputs": [],
      "source": [
        "A*x"
      ]
    },
    {
      "cell_type": "code",
      "execution_count": null,
      "metadata": {
        "colab": {
          "base_uri": "https://localhost:8080/"
        },
        "id": "aAKxtPZ3QofW",
        "outputId": "db395930-23cf-4a89-e776-4fe5137fe57a"
      },
      "outputs": [],
      "source": [
        "A = np.array([[1,2,3],[4,5,6],[7,8,9]])\n",
        "A"
      ]
    },
    {
      "cell_type": "code",
      "execution_count": null,
      "metadata": {
        "colab": {
          "base_uri": "https://localhost:8080/"
        },
        "id": "za1hlgOkQ7Dx",
        "outputId": "2205304a-347e-410f-e511-988df1eac713"
      },
      "outputs": [],
      "source": [
        "x = np.array([[1,2,3],\n",
        "              [4,5,6],\n",
        "              [7,8,9]])\n",
        "x"
      ]
    },
    {
      "cell_type": "code",
      "execution_count": null,
      "metadata": {
        "colab": {
          "base_uri": "https://localhost:8080/"
        },
        "id": "W4XbnPHFRJ0N",
        "outputId": "1e06fa31-3373-4a8c-e9cc-11520757102a"
      },
      "outputs": [],
      "source": [
        "A.dot(x)"
      ]
    },
    {
      "cell_type": "code",
      "execution_count": null,
      "metadata": {
        "colab": {
          "base_uri": "https://localhost:8080/"
        },
        "id": "6MfEuORDRPf6",
        "outputId": "e40affea-3343-46bf-fa2f-7e00f22f8024"
      },
      "outputs": [],
      "source": [
        "A = np.array([[1,2,3],[4,5,6],[7,8,9]])\n",
        "A"
      ]
    },
    {
      "cell_type": "code",
      "execution_count": null,
      "metadata": {
        "colab": {
          "base_uri": "https://localhost:8080/"
        },
        "id": "QKY677FWRcVI",
        "outputId": "64d628b8-d7c2-42f9-c10a-3810f568bec4"
      },
      "outputs": [],
      "source": [
        "np.matrix(A) * x"
      ]
    },
    {
      "cell_type": "code",
      "execution_count": null,
      "metadata": {
        "colab": {
          "base_uri": "https://localhost:8080/"
        },
        "id": "Cs9sQDRDRgle",
        "outputId": "d20df345-4476-48bc-add9-e994a3f09b35"
      },
      "outputs": [],
      "source": [
        "x = np.arange(10)\n",
        "x"
      ]
    },
    {
      "cell_type": "code",
      "execution_count": null,
      "metadata": {
        "colab": {
          "base_uri": "https://localhost:8080/"
        },
        "id": "I3RfEZN_RlXr",
        "outputId": "bcf6ff47-73e0-4103-c3ca-fbdea6048181"
      },
      "outputs": [],
      "source": [
        "x.dtype"
      ]
    },
    {
      "cell_type": "code",
      "execution_count": null,
      "metadata": {
        "colab": {
          "base_uri": "https://localhost:8080/"
        },
        "id": "RKlioshMRuTO",
        "outputId": "777a68e2-316c-4426-ec09-453e52a34027"
      },
      "outputs": [],
      "source": [
        "x = np.arange(10.0)\n",
        "x"
      ]
    },
    {
      "cell_type": "code",
      "execution_count": null,
      "metadata": {
        "colab": {
          "base_uri": "https://localhost:8080/"
        },
        "id": "koHqvYHlR6an",
        "outputId": "c9c6bf05-8d9b-4552-e633-6d6594beeeb3"
      },
      "outputs": [],
      "source": [
        "x.dtype"
      ]
    },
    {
      "cell_type": "code",
      "execution_count": null,
      "metadata": {
        "colab": {
          "base_uri": "https://localhost:8080/"
        },
        "id": "My0apLITSBbV",
        "outputId": "89f72e98-a403-427a-a807-ac5692c6ae89"
      },
      "outputs": [],
      "source": [
        "x = np.arange(5.0,10.0)\n",
        "x"
      ]
    },
    {
      "cell_type": "code",
      "execution_count": null,
      "metadata": {
        "colab": {
          "base_uri": "https://localhost:8080/"
        },
        "id": "u8UwuYNCSKBU",
        "outputId": "d0c45a96-c65a-4676-a443-7623fffa86e5"
      },
      "outputs": [],
      "source": [
        "np.arange(0,3,0.1)"
      ]
    },
    {
      "cell_type": "code",
      "execution_count": null,
      "metadata": {
        "colab": {
          "base_uri": "https://localhost:8080/"
        },
        "id": "qysSmEyeSO-Q",
        "outputId": "b9c28627-01d2-4fbf-9e72-7b4dbde678dd"
      },
      "outputs": [],
      "source": [
        "x.dtype"
      ]
    },
    {
      "cell_type": "code",
      "execution_count": null,
      "metadata": {
        "colab": {
          "base_uri": "https://localhost:8080/"
        },
        "id": "dv1XAAprSTzJ",
        "outputId": "def23a2f-510f-4057-9427-c250523c5e08"
      },
      "outputs": [],
      "source": [
        "x = np.arange(10,0,-1)\n",
        "x"
      ]
    },
    {
      "cell_type": "code",
      "execution_count": null,
      "metadata": {
        "colab": {
          "base_uri": "https://localhost:8080/"
        },
        "id": "Ja6QZnoPSWtT",
        "outputId": "bfe4e1ba-915b-40fa-9b5b-3f91b33f717d"
      },
      "outputs": [],
      "source": [
        "a = np.arange(6)\n",
        "a"
      ]
    },
    {
      "cell_type": "code",
      "execution_count": null,
      "metadata": {
        "colab": {
          "base_uri": "https://localhost:8080/"
        },
        "id": "mfsrMQAqSdpr",
        "outputId": "eceb9633-be09-47d3-d2d9-c6b33f1964d8"
      },
      "outputs": [],
      "source": [
        "a.ndim"
      ]
    },
    {
      "cell_type": "code",
      "execution_count": null,
      "metadata": {
        "colab": {
          "base_uri": "https://localhost:8080/"
        },
        "id": "0QV1NrTOSlSr",
        "outputId": "eb5e5d7e-370b-4f73-e758-64eebbc6140a"
      },
      "outputs": [],
      "source": [
        "a.shape"
      ]
    },
    {
      "cell_type": "code",
      "execution_count": null,
      "metadata": {
        "colab": {
          "base_uri": "https://localhost:8080/"
        },
        "id": "wBfo6_6sSm9M",
        "outputId": "0cd17397-f859-40b1-a0d5-fe97db598d8f"
      },
      "outputs": [],
      "source": [
        "b = a.reshape((3,2))\n",
        "b"
      ]
    },
    {
      "cell_type": "code",
      "execution_count": null,
      "metadata": {
        "colab": {
          "base_uri": "https://localhost:8080/"
        },
        "id": "5cYBpFwxSp84",
        "outputId": "83e529a4-9b49-4960-a309-58ffbcdb8a83"
      },
      "outputs": [],
      "source": [
        "b.ndim"
      ]
    },
    {
      "cell_type": "code",
      "execution_count": null,
      "metadata": {
        "colab": {
          "base_uri": "https://localhost:8080/"
        },
        "id": "Wend6nf6SwgU",
        "outputId": "2533d350-c778-4650-87f3-83933919f5bf"
      },
      "outputs": [],
      "source": [
        "b.shape"
      ]
    },
    {
      "cell_type": "code",
      "execution_count": null,
      "metadata": {
        "colab": {
          "base_uri": "https://localhost:8080/"
        },
        "id": "Jbw8QZM6SymY",
        "outputId": "97e51225-2abc-4dc9-c54f-ab0d5b17546b"
      },
      "outputs": [],
      "source": [
        "b.shape"
      ]
    },
    {
      "cell_type": "code",
      "execution_count": null,
      "metadata": {
        "colab": {
          "base_uri": "https://localhost:8080/"
        },
        "id": "PKTYNlyUS436",
        "outputId": "9ccf6aa3-f18f-4ee9-a4f3-5e945af38c42"
      },
      "outputs": [],
      "source": [
        "b[1][0] = 99\n",
        "b"
      ]
    },
    {
      "cell_type": "code",
      "execution_count": null,
      "metadata": {
        "colab": {
          "base_uri": "https://localhost:8080/"
        },
        "id": "wSVGFUquS-tV",
        "outputId": "7ced87b3-2734-4c9d-d74a-8827c367f9cd"
      },
      "outputs": [],
      "source": [
        "a"
      ]
    },
    {
      "cell_type": "code",
      "execution_count": null,
      "metadata": {
        "colab": {
          "base_uri": "https://localhost:8080/"
        },
        "id": "VjVZokXbTBvR",
        "outputId": "2a17ea96-29d8-4719-86c7-9241e08e15cb"
      },
      "outputs": [],
      "source": [
        "b.shape"
      ]
    },
    {
      "cell_type": "code",
      "execution_count": null,
      "metadata": {
        "colab": {
          "base_uri": "https://localhost:8080/"
        },
        "id": "RzSayILsTFdJ",
        "outputId": "57639d38-a60a-4b29-c37e-222aa46777fd"
      },
      "outputs": [],
      "source": [
        "a.reshape((3,2)).copy()\n",
        "# コピー\n",
        "# b = a.reshape()はデータをコピーしたわけではない"
      ]
    },
    {
      "cell_type": "code",
      "execution_count": null,
      "metadata": {
        "colab": {
          "base_uri": "https://localhost:8080/"
        },
        "id": "SV-8X-qPTI0F",
        "outputId": "df8ad066-a715-47e9-d7ab-bb4e412305b3"
      },
      "outputs": [],
      "source": [
        "b[1][0] = 2\n",
        "b"
      ]
    },
    {
      "cell_type": "code",
      "execution_count": null,
      "metadata": {
        "colab": {
          "base_uri": "https://localhost:8080/"
        },
        "id": "1olQEzDLTg4r",
        "outputId": "3b348df1-3900-46e7-b6b0-b8aa54b7c821"
      },
      "outputs": [],
      "source": []
    },
    {
      "cell_type": "code",
      "execution_count": null,
      "metadata": {
        "colab": {
          "base_uri": "https://localhost:8080/"
        },
        "id": "c0gAzc4nTlhu",
        "outputId": "67b02b48-6430-4e2a-f1cb-e0b297319fc9"
      },
      "outputs": [],
      "source": [
        "a = np.arange(6)\n",
        "a*2"
      ]
    },
    {
      "cell_type": "code",
      "execution_count": null,
      "metadata": {
        "colab": {
          "base_uri": "https://localhost:8080/"
        },
        "id": "1vhwrjJ7Tsud",
        "outputId": "75baa215-fd14-4fa5-bbcd-bf98fb85af31"
      },
      "outputs": [],
      "source": [
        "a**2"
      ]
    },
    {
      "cell_type": "code",
      "execution_count": null,
      "metadata": {
        "colab": {
          "base_uri": "https://localhost:8080/"
        },
        "id": "zbuLCbsrTwaj",
        "outputId": "cd9875fc-23e1-48e9-ba81-b04ec30cce67"
      },
      "outputs": [],
      "source": [
        "a = [0, 1, 2, 3, 4, 5]\n",
        "a*2"
      ]
    },
    {
      "cell_type": "code",
      "execution_count": null,
      "metadata": {
        "colab": {
          "base_uri": "https://localhost:8080/"
        },
        "id": "vptWrKSyTzv5",
        "outputId": "574d6778-949c-42fc-b8fe-9191053adbd9"
      },
      "outputs": [],
      "source": [
        "a = np.arange(6)\n",
        "a[np.array([2,3,4])]"
      ]
    },
    {
      "cell_type": "code",
      "execution_count": null,
      "metadata": {
        "colab": {
          "base_uri": "https://localhost:8080/"
        },
        "id": "UkAmgSPWT2G9",
        "outputId": "37a98ace-94ee-4a19-f89c-ea78059cfbf6"
      },
      "outputs": [],
      "source": [
        "a > 4"
      ]
    },
    {
      "cell_type": "code",
      "execution_count": null,
      "metadata": {
        "colab": {
          "base_uri": "https://localhost:8080/"
        },
        "id": "h-j-pYJVT7tN",
        "outputId": "1cded7b4-0842-457c-b35e-9a3f5d6b62ad"
      },
      "outputs": [],
      "source": [
        "a[a>4]"
      ]
    },
    {
      "cell_type": "code",
      "execution_count": null,
      "metadata": {
        "colab": {
          "base_uri": "https://localhost:8080/"
        },
        "id": "nFBeCeKXUAPH",
        "outputId": "5328964a-ce54-47ec-b4d9-11a9249f140d"
      },
      "outputs": [],
      "source": [
        "a = np.arange(6)\n",
        "a.clip(2,3)"
      ]
    },
    {
      "cell_type": "code",
      "execution_count": null,
      "metadata": {
        "colab": {
          "base_uri": "https://localhost:8080/"
        },
        "id": "DtyAJfxbUEj4",
        "outputId": "37c0f548-d435-4c5b-a62a-29f8534e23ed"
      },
      "outputs": [],
      "source": [
        "c = np.array([1, 2, np.NAN, 3, 4])\n",
        "c"
      ]
    },
    {
      "cell_type": "code",
      "execution_count": null,
      "metadata": {
        "colab": {
          "base_uri": "https://localhost:8080/"
        },
        "id": "jUNVrqVRUJ1a",
        "outputId": "e4840cef-2b28-4d92-85c5-bf3653e2810f"
      },
      "outputs": [],
      "source": [
        "np.isnan(c)"
      ]
    },
    {
      "cell_type": "code",
      "execution_count": null,
      "metadata": {
        "colab": {
          "base_uri": "https://localhost:8080/"
        },
        "id": "Tstyj5zfUPOk",
        "outputId": "c7fe8423-704e-4d33-a9f9-0329a97ada9e"
      },
      "outputs": [],
      "source": [
        "c[~np.isnan(c)]"
      ]
    },
    {
      "cell_type": "code",
      "execution_count": null,
      "metadata": {
        "colab": {
          "base_uri": "https://localhost:8080/"
        },
        "id": "40FpB7eXUUWD",
        "outputId": "37884e2b-c640-4a9a-9f0e-872480950188"
      },
      "outputs": [],
      "source": [
        "np.mean(c[~np.isnan(c)])"
      ]
    },
    {
      "cell_type": "code",
      "execution_count": null,
      "metadata": {
        "id": "A0VndeGpUYY9"
      },
      "outputs": [],
      "source": [
        "import matplotlib.pyplot as plt\n"
      ]
    },
    {
      "cell_type": "code",
      "execution_count": null,
      "metadata": {
        "colab": {
          "base_uri": "https://localhost:8080/"
        },
        "id": "geRjm05RUgo2",
        "outputId": "1c03b877-462a-45eb-f04b-c98a6f88afd7"
      },
      "outputs": [],
      "source": [
        "x=np.arange(0,np.pi,0.1)\n",
        "x"
      ]
    },
    {
      "cell_type": "code",
      "execution_count": null,
      "metadata": {
        "colab": {
          "base_uri": "https://localhost:8080/"
        },
        "id": "_kfuqWF-UyzH",
        "outputId": "b4242ddb-6cc4-4b19-b006-cf57a52e82d0"
      },
      "outputs": [],
      "source": [
        "y=np.sin(x)\n",
        "y"
      ]
    },
    {
      "cell_type": "code",
      "execution_count": null,
      "metadata": {
        "colab": {
          "base_uri": "https://localhost:8080/",
          "height": 284
        },
        "id": "fIPArYhUU6CX",
        "outputId": "4b7699a5-410b-4fe1-cc0b-5c6eff02da80"
      },
      "outputs": [],
      "source": [
        "plt.plot(x,y)"
      ]
    },
    {
      "cell_type": "code",
      "execution_count": null,
      "metadata": {
        "colab": {
          "base_uri": "https://localhost:8080/",
          "height": 265
        },
        "id": "R-KFmAX-VB7e",
        "outputId": "368db257-0b2c-4d36-b921-74b2c61baa1d"
      },
      "outputs": [],
      "source": [
        "d =[0, 1, 4, 9, 16]\n",
        "plt.plot(d);"
      ]
    },
    {
      "cell_type": "code",
      "execution_count": null,
      "metadata": {
        "colab": {
          "base_uri": "https://localhost:8080/",
          "height": 265
        },
        "id": "wBbKPwwQVxl5",
        "outputId": "e3d0fa39-868b-4e2b-fd2f-0fa012f90b27"
      },
      "outputs": [],
      "source": [
        "x =[0, 1, 2, 3, 4]\n",
        "y =[0, 3, 6, 9, 12]\n",
        "plt.plot(x,y);"
      ]
    },
    {
      "cell_type": "code",
      "execution_count": null,
      "metadata": {
        "colab": {
          "base_uri": "https://localhost:8080/",
          "height": 284
        },
        "id": "ztf-OA16V1yR",
        "outputId": "3812b029-dc53-4c10-ec8d-849a97a2ca91"
      },
      "outputs": [],
      "source": [
        "x =[0, 1, 2, 3, 4]\n",
        "aryx = np.array(x) \n",
        "y =[0, 3, 6, 9, 12]\n",
        "aryy = np.array(y)\n",
        "\n",
        "plt.plot(aryx,aryy)"
      ]
    },
    {
      "cell_type": "code",
      "execution_count": null,
      "metadata": {
        "colab": {
          "base_uri": "https://localhost:8080/",
          "height": 265
        },
        "id": "WjrNc-EsWDok",
        "outputId": "be8cd784-574b-4897-a996-c0df42b2b575"
      },
      "outputs": [],
      "source": [
        "data =[0, 1, 4, 9, 16]\n",
        "x =[0, 1, 2, 3, 4]\n",
        "y =[0, 1, 2, 3, 4]\n",
        "\n",
        "plt.plot(x, y)\n",
        "plt.plot(data);"
      ]
    },
    {
      "cell_type": "code",
      "execution_count": null,
      "metadata": {
        "colab": {
          "base_uri": "https://localhost:8080/",
          "height": 265
        },
        "id": "jJwDSLjfWHAo",
        "outputId": "b5132d09-30d3-4c3b-cab7-604b8fab0e33"
      },
      "outputs": [],
      "source": [
        "data =[0, 1, 4, 9, 16]\n",
        "x =[0, 1, 2, 3, 4]\n",
        "y =[0, 1, 2, 3, 4]\n",
        "\n",
        "# plot関数で描画。線の形状、色、データポイントのマーカ指定\n",
        "plt.plot(x,y, linestyle='--', color='blue', marker='o')\n",
        "plt.plot(data, linestyle=':', color='green', marker='*');"
      ]
    },
    {
      "cell_type": "code",
      "execution_count": null,
      "metadata": {
        "colab": {
          "base_uri": "https://localhost:8080/",
          "height": 265
        },
        "id": "rMUY2--BWZ4b",
        "outputId": "52b5cf46-badd-4086-f1b4-98592e90d4ad"
      },
      "outputs": [],
      "source": [
        "data =[0, 1, 4, 9, 16]\n",
        "x =[0, 1, 2, 3, 4]\n",
        "y =[0, 1, 2, 3, 4]\n",
        "\n",
        "# plot関数で描画。線の形状、色、データポイントのマーカ指定\n",
        "plt.plot(x,y, linestyle='--', color='blue', marker='o', label='linear')\n",
        "plt.plot(data, linestyle=':', color='green', marker='*', label='quad')\n",
        "#凡例を表示\n",
        "plt.legend();"
      ]
    },
    {
      "cell_type": "code",
      "execution_count": null,
      "metadata": {
        "colab": {
          "base_uri": "https://localhost:8080/"
        },
        "id": "PsbytuL9WdRe",
        "outputId": "d555fd24-b47d-40fd-ad69-174f61b4e9ca"
      },
      "outputs": [],
      "source": [
        "x = 2\n",
        "x*3"
      ]
    },
    {
      "cell_type": "code",
      "execution_count": null,
      "metadata": {
        "colab": {
          "base_uri": "https://localhost:8080/"
        },
        "id": "GNo7pGg98GoN",
        "outputId": "27d9ce92-08b1-4b62-88f6-e32ad624c5b9"
      },
      "outputs": [],
      "source": [
        "a = 100\n",
        "b = 200\n",
        "a , b=b,a\n",
        "print(a,b)"
      ]
    },
    {
      "cell_type": "code",
      "execution_count": null,
      "metadata": {
        "colab": {
          "base_uri": "https://localhost:8080/"
        },
        "id": "L1alv-jT8Zlf",
        "outputId": "16176a96-0072-4965-c354-3c5460a145c0"
      },
      "outputs": [],
      "source": [
        "a = 10\n",
        "b = 2\n",
        "print(a+b,a-b,a*b,a/b)"
      ]
    },
    {
      "cell_type": "code",
      "execution_count": null,
      "metadata": {
        "colab": {
          "base_uri": "https://localhost:8080/"
        },
        "id": "0gj3VIXB8jDl",
        "outputId": "d133782e-3ee0-4bf6-b512-bbf9f551bab4"
      },
      "outputs": [],
      "source": [
        "a = 5\n",
        "b = 3\n",
        "a%b"
      ]
    },
    {
      "cell_type": "code",
      "execution_count": null,
      "metadata": {
        "colab": {
          "base_uri": "https://localhost:8080/"
        },
        "id": "bzsAX3po8zIW",
        "outputId": "4d222fb0-c0c7-49ee-a59f-b8cdbd9bdfb6"
      },
      "outputs": [],
      "source": [
        "a = 5\n",
        "b= 10\n",
        "if a<b:\n",
        "    print(a)\n",
        "else:\n",
        "    print(b)"
      ]
    },
    {
      "cell_type": "code",
      "execution_count": null,
      "metadata": {
        "colab": {
          "base_uri": "https://localhost:8080/"
        },
        "id": "CAa4DzBR9Ku8",
        "outputId": "060769bb-f836-40ce-90ea-d744eed9f116"
      },
      "outputs": [],
      "source": [
        "a=5\n",
        "if a%2 == 0:\n",
        "    print(\"ture\")\n",
        "else:\n",
        "    print(\"folse\") "
      ]
    },
    {
      "cell_type": "code",
      "execution_count": null,
      "metadata": {
        "colab": {
          "base_uri": "https://localhost:8080/",
          "height": 36
        },
        "id": "yD4H9uO_9lgv",
        "outputId": "1e93b22c-dbae-4d67-99e7-f06989b3ae83"
      },
      "outputs": [],
      "source": [
        "word = \"python\"\n",
        "word[2]"
      ]
    },
    {
      "cell_type": "code",
      "execution_count": null,
      "metadata": {
        "colab": {
          "base_uri": "https://localhost:8080/"
        },
        "id": "iDFkq3lb92dV",
        "outputId": "3a3cb036-b2b1-4942-bf8c-18d607c490dc"
      },
      "outputs": [],
      "source": [
        "s1=\"py\"\n",
        "s2=\"thon\"\n",
        "print(s1+s2)"
      ]
    },
    {
      "cell_type": "code",
      "execution_count": null,
      "metadata": {
        "colab": {
          "base_uri": "https://localhost:8080/"
        },
        "id": "c3iAP_8q-Emk",
        "outputId": "8044a021-4778-435d-8897-2bf8fa18f022"
      },
      "outputs": [],
      "source": [
        "a=5\n",
        "b=3\n",
        "ans = \"{}%{}={}\".format(a,b,a%b)\n",
        "print(ans)"
      ]
    },
    {
      "cell_type": "code",
      "execution_count": null,
      "metadata": {
        "colab": {
          "base_uri": "https://localhost:8080/"
        },
        "id": "i96wvKY4-mW6",
        "outputId": "329231c2-5187-4169-8a9a-b101ba5b975a"
      },
      "outputs": [],
      "source": [
        "a = \"some1\"\n",
        "a=a.replace(\"1\",\"one\")\n",
        "print(a)"
      ]
    },
    {
      "cell_type": "code",
      "execution_count": null,
      "metadata": {
        "colab": {
          "base_uri": "https://localhost:8080/"
        },
        "id": "7wb_1SLg-7G4",
        "outputId": "38a9314b-561d-4f2e-c04e-cd599fe1cb9b"
      },
      "outputs": [],
      "source": [
        "a = 'This Is A Sentence .'\n",
        "a = a.lower()\n",
        "print(a)"
      ]
    },
    {
      "cell_type": "code",
      "execution_count": null,
      "metadata": {
        "colab": {
          "base_uri": "https://localhost:8080/"
        },
        "id": "UeLuGGTR_GUL",
        "outputId": "bf80de2c-7407-4fee-e6ba-a6711091982a"
      },
      "outputs": [],
      "source": [
        "a = 'This Is A Sentence .'\n",
        "a=a.upper()\n",
        "print(a)"
      ]
    },
    {
      "cell_type": "code",
      "execution_count": null,
      "metadata": {
        "colab": {
          "base_uri": "https://localhost:8080/"
        },
        "id": "qf664C1V_Qto",
        "outputId": "a4cc5433-6f63-439b-a235-1b80be50c72f"
      },
      "outputs": [],
      "source": [
        "a = 'How many characters?'\n",
        "print(len(a))"
      ]
    },
    {
      "cell_type": "code",
      "execution_count": null,
      "metadata": {
        "colab": {
          "base_uri": "https://localhost:8080/"
        },
        "id": "tgvqkE0M_mcl",
        "outputId": "6bf396a4-2cac-442e-b98b-9aa0b401c053"
      },
      "outputs": [],
      "source": [
        "a = \"34\"\n",
        "b =\"43\"\n",
        "print(int(a)+int(b))"
      ]
    },
    {
      "cell_type": "code",
      "execution_count": null,
      "metadata": {
        "colab": {
          "base_uri": "https://localhost:8080/"
        },
        "id": "ceFQeGcu_dbt",
        "outputId": "1f8e93a4-7b7c-4f02-e102-bfc40a23d8b7"
      },
      "outputs": [],
      "source": [
        "list=[1,2,3,4,5]\n",
        "list[3]"
      ]
    },
    {
      "cell_type": "code",
      "execution_count": null,
      "metadata": {
        "colab": {
          "base_uri": "https://localhost:8080/"
        },
        "id": "3yzCZQj8_5g9",
        "outputId": "0228f906-0437-4f86-ff20-a1e78ef7aa01"
      },
      "outputs": [],
      "source": [
        "li1 = [1,2,3]\n",
        "li2 = [4,5]\n",
        "list = li1 +li2\n",
        "print(list)"
      ]
    },
    {
      "cell_type": "code",
      "execution_count": null,
      "metadata": {
        "colab": {
          "base_uri": "https://localhost:8080/"
        },
        "id": "mP09rIM8AVol",
        "outputId": "b5545d5c-4902-4fa5-bfa2-9f99eec2f23c"
      },
      "outputs": [],
      "source": [
        "list = [1,2,3,4,5]\n",
        "list.append(6)\n",
        "list.append(7)\n",
        "print(list)"
      ]
    },
    {
      "cell_type": "code",
      "execution_count": null,
      "metadata": {
        "colab": {
          "base_uri": "https://localhost:8080/"
        },
        "id": "3SnSDVfmAlG4",
        "outputId": "46805549-83b0-4675-c1dc-9eb49fbb4fce"
      },
      "outputs": [],
      "source": [
        "list = [1,2,3,4,5]\n",
        "list.insert(1,100)\n",
        "print(list)"
      ]
    },
    {
      "cell_type": "code",
      "execution_count": null,
      "metadata": {
        "colab": {
          "base_uri": "https://localhost:8080/"
        },
        "id": "cJyEsyFmA56d",
        "outputId": "e854b762-47a4-40f6-900c-9d8fc0c4d9ce"
      },
      "outputs": [],
      "source": [
        "list = [1,2,3,4,5]\n",
        "for elem in list:\n",
        "    if elem %2==0:\n",
        "        print(elem)"
      ]
    },
    {
      "cell_type": "code",
      "execution_count": null,
      "metadata": {
        "colab": {
          "base_uri": "https://localhost:8080/"
        },
        "id": "GYmOr26iBOUQ",
        "outputId": "684ff97b-245d-4d00-c3d2-f09c0fc733be"
      },
      "outputs": [],
      "source": [
        "list = [11,22,33,44,55]\n",
        "if 44 in list:\n",
        "    print(True)\n",
        "else:\n",
        "    print(False)\n",
        "    "
      ]
    },
    {
      "cell_type": "code",
      "execution_count": null,
      "metadata": {
        "colab": {
          "base_uri": "https://localhost:8080/"
        },
        "id": "FPOcd3D5B_iJ",
        "outputId": "85455e29-2054-4275-dc59-5da49f93dd83"
      },
      "outputs": [],
      "source": [
        "list = [1,2,3,4,5]\n",
        "tup = (list[0],list[-1])\n",
        "print(tup)"
      ]
    },
    {
      "cell_type": "code",
      "execution_count": null,
      "metadata": {
        "id": "0zO51J9ACfvL"
      },
      "outputs": [],
      "source": []
    }
  ],
  "metadata": {
    "colab": {
      "collapsed_sections": [],
      "provenance": []
    },
    "kernelspec": {
      "display_name": "Python 3.8.9 64-bit",
      "language": "python",
      "name": "python3"
    },
    "language_info": {
      "codemirror_mode": {
        "name": "ipython",
        "version": 3
      },
      "file_extension": ".py",
      "mimetype": "text/x-python",
      "name": "python",
      "nbconvert_exporter": "python",
      "pygments_lexer": "ipython3",
      "version": "3.8.9"
    },
    "vscode": {
      "interpreter": {
        "hash": "31f2aee4e71d21fbe5cf8b01ff0e069b9275f58929596ceb00d14d90e3e16cd6"
      }
    }
  },
  "nbformat": 4,
  "nbformat_minor": 0
}
